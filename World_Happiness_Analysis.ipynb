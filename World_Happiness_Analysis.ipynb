{
  "nbformat": 4,
  "nbformat_minor": 0,
  "metadata": {
    "kernelspec": {
      "display_name": "Python 3",
      "language": "python",
      "name": "python3"
    },
    "language_info": {
      "codemirror_mode": {
        "name": "ipython",
        "version": 3
      },
      "file_extension": ".py",
      "mimetype": "text/x-python",
      "name": "python",
      "nbconvert_exporter": "python",
      "pygments_lexer": "ipython3",
      "version": "3.8.5"
    },
    "colab": {
      "name": "World_Happiness_Analysis.ipynb",
      "provenance": [],
      "collapsed_sections": [],
      "include_colab_link": true
    }
  },
  "cells": [
    {
      "cell_type": "markdown",
      "metadata": {
        "id": "view-in-github",
        "colab_type": "text"
      },
      "source": [
        "<a href=\"https://colab.research.google.com/github/AayushAnshu21/World_Happiness_Analysis/blob/master/World_Happiness_Analysis.ipynb\" target=\"_parent\"><img src=\"https://colab.research.google.com/assets/colab-badge.svg\" alt=\"Open In Colab\"/></a>"
      ]
    },
    {
      "cell_type": "markdown",
      "metadata": {
        "id": "QzYTfhmYcYiY",
        "colab_type": "text"
      },
      "source": [
        "# World Happiness Analysis\n",
        "\n",
        "In this project I have anaysed the relation of world happiness index of various countries with that country's Economic condition, Freedom index , Government corruption , Life expectancy and Geographical location.\n",
        "\n",
        "The csv file used in this analysis was taken from [Kaggle](https://www.kaggle.com/mathurinache/world-happiness-report). This project is part of the assignment for the course [Data Analysis with Python: Zero to Pandas](http://zerotopandas.com).\n",
        "\n",
        "\n"
      ]
    },
    {
      "cell_type": "code",
      "metadata": {
        "id": "RWBTt6xvcYiZ",
        "colab_type": "code",
        "colab": {}
      },
      "source": [
        "project_name = \"World_Happiness_Analysis\" "
      ],
      "execution_count": 5,
      "outputs": []
    },
    {
      "cell_type": "markdown",
      "metadata": {
        "id": "Ucjl7wKhcYim",
        "colab_type": "text"
      },
      "source": [
        "## Data Preparation and Cleaning\n",
        "\n",
        "We will import required libraries i.e  Pandas , Matplotlib and seaborn .We will also upload required csv file."
      ]
    },
    {
      "cell_type": "code",
      "metadata": {
        "id": "5p24TAWgcYin",
        "colab_type": "code",
        "colab": {}
      },
      "source": [
        "import pandas as pd\n",
        "from urllib.request import urlretrieve\n",
        "import matplotlib.pyplot as plt\n",
        "import seaborn as sns\n",
        "sns.set_style(\"whitegrid\")\n",
        "%matplotlib inline"
      ],
      "execution_count": 6,
      "outputs": []
    },
    {
      "cell_type": "code",
      "metadata": {
        "id": "AihfFzFbcYir",
        "colab_type": "code",
        "colab": {
          "base_uri": "https://localhost:8080/",
          "height": 383
        },
        "outputId": "175e9291-f7f4-4b0f-f607-ce38599d3b91"
      },
      "source": [
        "happiness_df = pd.read_csv('World_happiness_Index_2020.csv')\n",
        "happiness_df.head(5)"
      ],
      "execution_count": 7,
      "outputs": [
        {
          "output_type": "execute_result",
          "data": {
            "text/html": [
              "<div>\n",
              "<style scoped>\n",
              "    .dataframe tbody tr th:only-of-type {\n",
              "        vertical-align: middle;\n",
              "    }\n",
              "\n",
              "    .dataframe tbody tr th {\n",
              "        vertical-align: top;\n",
              "    }\n",
              "\n",
              "    .dataframe thead th {\n",
              "        text-align: right;\n",
              "    }\n",
              "</style>\n",
              "<table border=\"1\" class=\"dataframe\">\n",
              "  <thead>\n",
              "    <tr style=\"text-align: right;\">\n",
              "      <th></th>\n",
              "      <th>Country name</th>\n",
              "      <th>Regional indicator</th>\n",
              "      <th>Ladder score</th>\n",
              "      <th>Standard error of ladder score</th>\n",
              "      <th>upperwhisker</th>\n",
              "      <th>lowerwhisker</th>\n",
              "      <th>Logged GDP per capita</th>\n",
              "      <th>Social support</th>\n",
              "      <th>Healthy life expectancy</th>\n",
              "      <th>Freedom to make life choices</th>\n",
              "      <th>Generosity</th>\n",
              "      <th>Perceptions of corruption</th>\n",
              "      <th>Ladder score in Dystopia</th>\n",
              "      <th>Explained by: Log GDP per capita</th>\n",
              "      <th>Explained by: Social support</th>\n",
              "      <th>Explained by: Healthy life expectancy</th>\n",
              "      <th>Explained by: Freedom to make life choices</th>\n",
              "      <th>Explained by: Generosity</th>\n",
              "      <th>Explained by: Perceptions of corruption</th>\n",
              "      <th>Dystopia + residual</th>\n",
              "    </tr>\n",
              "  </thead>\n",
              "  <tbody>\n",
              "    <tr>\n",
              "      <th>0</th>\n",
              "      <td>Finland</td>\n",
              "      <td>Western Europe</td>\n",
              "      <td>7.8087</td>\n",
              "      <td>0.031156</td>\n",
              "      <td>7.869766</td>\n",
              "      <td>7.747634</td>\n",
              "      <td>10.639267</td>\n",
              "      <td>0.954330</td>\n",
              "      <td>71.900825</td>\n",
              "      <td>0.949172</td>\n",
              "      <td>-0.059482</td>\n",
              "      <td>0.195445</td>\n",
              "      <td>1.972317</td>\n",
              "      <td>1.285190</td>\n",
              "      <td>1.499526</td>\n",
              "      <td>0.961271</td>\n",
              "      <td>0.662317</td>\n",
              "      <td>0.159670</td>\n",
              "      <td>0.477857</td>\n",
              "      <td>2.762835</td>\n",
              "    </tr>\n",
              "    <tr>\n",
              "      <th>1</th>\n",
              "      <td>Denmark</td>\n",
              "      <td>Western Europe</td>\n",
              "      <td>7.6456</td>\n",
              "      <td>0.033492</td>\n",
              "      <td>7.711245</td>\n",
              "      <td>7.579955</td>\n",
              "      <td>10.774001</td>\n",
              "      <td>0.955991</td>\n",
              "      <td>72.402504</td>\n",
              "      <td>0.951444</td>\n",
              "      <td>0.066202</td>\n",
              "      <td>0.168489</td>\n",
              "      <td>1.972317</td>\n",
              "      <td>1.326949</td>\n",
              "      <td>1.503449</td>\n",
              "      <td>0.979333</td>\n",
              "      <td>0.665040</td>\n",
              "      <td>0.242793</td>\n",
              "      <td>0.495260</td>\n",
              "      <td>2.432741</td>\n",
              "    </tr>\n",
              "    <tr>\n",
              "      <th>2</th>\n",
              "      <td>Switzerland</td>\n",
              "      <td>Western Europe</td>\n",
              "      <td>7.5599</td>\n",
              "      <td>0.035014</td>\n",
              "      <td>7.628528</td>\n",
              "      <td>7.491272</td>\n",
              "      <td>10.979933</td>\n",
              "      <td>0.942847</td>\n",
              "      <td>74.102448</td>\n",
              "      <td>0.921337</td>\n",
              "      <td>0.105911</td>\n",
              "      <td>0.303728</td>\n",
              "      <td>1.972317</td>\n",
              "      <td>1.390774</td>\n",
              "      <td>1.472403</td>\n",
              "      <td>1.040533</td>\n",
              "      <td>0.628954</td>\n",
              "      <td>0.269056</td>\n",
              "      <td>0.407946</td>\n",
              "      <td>2.350267</td>\n",
              "    </tr>\n",
              "    <tr>\n",
              "      <th>3</th>\n",
              "      <td>Iceland</td>\n",
              "      <td>Western Europe</td>\n",
              "      <td>7.5045</td>\n",
              "      <td>0.059616</td>\n",
              "      <td>7.621347</td>\n",
              "      <td>7.387653</td>\n",
              "      <td>10.772559</td>\n",
              "      <td>0.974670</td>\n",
              "      <td>73.000000</td>\n",
              "      <td>0.948892</td>\n",
              "      <td>0.246944</td>\n",
              "      <td>0.711710</td>\n",
              "      <td>1.972317</td>\n",
              "      <td>1.326502</td>\n",
              "      <td>1.547567</td>\n",
              "      <td>1.000843</td>\n",
              "      <td>0.661981</td>\n",
              "      <td>0.362330</td>\n",
              "      <td>0.144541</td>\n",
              "      <td>2.460688</td>\n",
              "    </tr>\n",
              "    <tr>\n",
              "      <th>4</th>\n",
              "      <td>Norway</td>\n",
              "      <td>Western Europe</td>\n",
              "      <td>7.4880</td>\n",
              "      <td>0.034837</td>\n",
              "      <td>7.556281</td>\n",
              "      <td>7.419719</td>\n",
              "      <td>11.087804</td>\n",
              "      <td>0.952487</td>\n",
              "      <td>73.200783</td>\n",
              "      <td>0.955750</td>\n",
              "      <td>0.134533</td>\n",
              "      <td>0.263218</td>\n",
              "      <td>1.972317</td>\n",
              "      <td>1.424207</td>\n",
              "      <td>1.495173</td>\n",
              "      <td>1.008072</td>\n",
              "      <td>0.670201</td>\n",
              "      <td>0.287985</td>\n",
              "      <td>0.434101</td>\n",
              "      <td>2.168266</td>\n",
              "    </tr>\n",
              "  </tbody>\n",
              "</table>\n",
              "</div>"
            ],
            "text/plain": [
              "  Country name  ... Dystopia + residual\n",
              "0      Finland  ...            2.762835\n",
              "1      Denmark  ...            2.432741\n",
              "2  Switzerland  ...            2.350267\n",
              "3      Iceland  ...            2.460688\n",
              "4       Norway  ...            2.168266\n",
              "\n",
              "[5 rows x 20 columns]"
            ]
          },
          "metadata": {
            "tags": []
          },
          "execution_count": 7
        }
      ]
    },
    {
      "cell_type": "markdown",
      "metadata": {
        "id": "KlcWz7N3q5Zg",
        "colab_type": "text"
      },
      "source": [
        "Now we will remove some colums from this dataset which are not required.\n"
      ]
    },
    {
      "cell_type": "code",
      "metadata": {
        "id": "yTQaLWvTcYiw",
        "colab_type": "code",
        "colab": {
          "base_uri": "https://localhost:8080/",
          "height": 195
        },
        "outputId": "13e2570e-5380-4bf7-8523-dec2eebf5ea4"
      },
      "source": [
        "happiness_df.drop(['upperwhisker', 'lowerwhisker','Standard error of ladder score'], axis = 1,inplace = True) \n",
        "happiness_df.drop(happiness_df.loc[:, 'Ladder score in Dystopia': ].columns, axis = 1,inplace = True) \n",
        "happiness_df.head(5)"
      ],
      "execution_count": 8,
      "outputs": [
        {
          "output_type": "execute_result",
          "data": {
            "text/html": [
              "<div>\n",
              "<style scoped>\n",
              "    .dataframe tbody tr th:only-of-type {\n",
              "        vertical-align: middle;\n",
              "    }\n",
              "\n",
              "    .dataframe tbody tr th {\n",
              "        vertical-align: top;\n",
              "    }\n",
              "\n",
              "    .dataframe thead th {\n",
              "        text-align: right;\n",
              "    }\n",
              "</style>\n",
              "<table border=\"1\" class=\"dataframe\">\n",
              "  <thead>\n",
              "    <tr style=\"text-align: right;\">\n",
              "      <th></th>\n",
              "      <th>Country name</th>\n",
              "      <th>Regional indicator</th>\n",
              "      <th>Ladder score</th>\n",
              "      <th>Logged GDP per capita</th>\n",
              "      <th>Social support</th>\n",
              "      <th>Healthy life expectancy</th>\n",
              "      <th>Freedom to make life choices</th>\n",
              "      <th>Generosity</th>\n",
              "      <th>Perceptions of corruption</th>\n",
              "    </tr>\n",
              "  </thead>\n",
              "  <tbody>\n",
              "    <tr>\n",
              "      <th>0</th>\n",
              "      <td>Finland</td>\n",
              "      <td>Western Europe</td>\n",
              "      <td>7.8087</td>\n",
              "      <td>10.639267</td>\n",
              "      <td>0.954330</td>\n",
              "      <td>71.900825</td>\n",
              "      <td>0.949172</td>\n",
              "      <td>-0.059482</td>\n",
              "      <td>0.195445</td>\n",
              "    </tr>\n",
              "    <tr>\n",
              "      <th>1</th>\n",
              "      <td>Denmark</td>\n",
              "      <td>Western Europe</td>\n",
              "      <td>7.6456</td>\n",
              "      <td>10.774001</td>\n",
              "      <td>0.955991</td>\n",
              "      <td>72.402504</td>\n",
              "      <td>0.951444</td>\n",
              "      <td>0.066202</td>\n",
              "      <td>0.168489</td>\n",
              "    </tr>\n",
              "    <tr>\n",
              "      <th>2</th>\n",
              "      <td>Switzerland</td>\n",
              "      <td>Western Europe</td>\n",
              "      <td>7.5599</td>\n",
              "      <td>10.979933</td>\n",
              "      <td>0.942847</td>\n",
              "      <td>74.102448</td>\n",
              "      <td>0.921337</td>\n",
              "      <td>0.105911</td>\n",
              "      <td>0.303728</td>\n",
              "    </tr>\n",
              "    <tr>\n",
              "      <th>3</th>\n",
              "      <td>Iceland</td>\n",
              "      <td>Western Europe</td>\n",
              "      <td>7.5045</td>\n",
              "      <td>10.772559</td>\n",
              "      <td>0.974670</td>\n",
              "      <td>73.000000</td>\n",
              "      <td>0.948892</td>\n",
              "      <td>0.246944</td>\n",
              "      <td>0.711710</td>\n",
              "    </tr>\n",
              "    <tr>\n",
              "      <th>4</th>\n",
              "      <td>Norway</td>\n",
              "      <td>Western Europe</td>\n",
              "      <td>7.4880</td>\n",
              "      <td>11.087804</td>\n",
              "      <td>0.952487</td>\n",
              "      <td>73.200783</td>\n",
              "      <td>0.955750</td>\n",
              "      <td>0.134533</td>\n",
              "      <td>0.263218</td>\n",
              "    </tr>\n",
              "  </tbody>\n",
              "</table>\n",
              "</div>"
            ],
            "text/plain": [
              "  Country name Regional indicator  ...  Generosity  Perceptions of corruption\n",
              "0      Finland     Western Europe  ...   -0.059482                   0.195445\n",
              "1      Denmark     Western Europe  ...    0.066202                   0.168489\n",
              "2  Switzerland     Western Europe  ...    0.105911                   0.303728\n",
              "3      Iceland     Western Europe  ...    0.246944                   0.711710\n",
              "4       Norway     Western Europe  ...    0.134533                   0.263218\n",
              "\n",
              "[5 rows x 9 columns]"
            ]
          },
          "metadata": {
            "tags": []
          },
          "execution_count": 8
        }
      ]
    },
    {
      "cell_type": "markdown",
      "metadata": {
        "id": "hPCIgf8jALRN",
        "colab_type": "text"
      },
      "source": [
        " **Statics of Given Datasets**"
      ]
    },
    {
      "cell_type": "code",
      "metadata": {
        "id": "jPojcd5DcYiy",
        "colab_type": "code",
        "colab": {
          "base_uri": "https://localhost:8080/",
          "height": 284
        },
        "outputId": "b1cb4811-08b6-437e-fdda-ade4ca74783f"
      },
      "source": [
        "happiness_df.describe()"
      ],
      "execution_count": 9,
      "outputs": [
        {
          "output_type": "execute_result",
          "data": {
            "text/html": [
              "<div>\n",
              "<style scoped>\n",
              "    .dataframe tbody tr th:only-of-type {\n",
              "        vertical-align: middle;\n",
              "    }\n",
              "\n",
              "    .dataframe tbody tr th {\n",
              "        vertical-align: top;\n",
              "    }\n",
              "\n",
              "    .dataframe thead th {\n",
              "        text-align: right;\n",
              "    }\n",
              "</style>\n",
              "<table border=\"1\" class=\"dataframe\">\n",
              "  <thead>\n",
              "    <tr style=\"text-align: right;\">\n",
              "      <th></th>\n",
              "      <th>Ladder score</th>\n",
              "      <th>Logged GDP per capita</th>\n",
              "      <th>Social support</th>\n",
              "      <th>Healthy life expectancy</th>\n",
              "      <th>Freedom to make life choices</th>\n",
              "      <th>Generosity</th>\n",
              "      <th>Perceptions of corruption</th>\n",
              "    </tr>\n",
              "  </thead>\n",
              "  <tbody>\n",
              "    <tr>\n",
              "      <th>count</th>\n",
              "      <td>153.00000</td>\n",
              "      <td>153.000000</td>\n",
              "      <td>153.000000</td>\n",
              "      <td>153.000000</td>\n",
              "      <td>153.000000</td>\n",
              "      <td>153.000000</td>\n",
              "      <td>153.000000</td>\n",
              "    </tr>\n",
              "    <tr>\n",
              "      <th>mean</th>\n",
              "      <td>5.47324</td>\n",
              "      <td>9.295706</td>\n",
              "      <td>0.808721</td>\n",
              "      <td>64.445529</td>\n",
              "      <td>0.783360</td>\n",
              "      <td>-0.014568</td>\n",
              "      <td>0.733120</td>\n",
              "    </tr>\n",
              "    <tr>\n",
              "      <th>std</th>\n",
              "      <td>1.11227</td>\n",
              "      <td>1.201588</td>\n",
              "      <td>0.121453</td>\n",
              "      <td>7.057848</td>\n",
              "      <td>0.117786</td>\n",
              "      <td>0.151809</td>\n",
              "      <td>0.175172</td>\n",
              "    </tr>\n",
              "    <tr>\n",
              "      <th>min</th>\n",
              "      <td>2.56690</td>\n",
              "      <td>6.492642</td>\n",
              "      <td>0.319460</td>\n",
              "      <td>45.200001</td>\n",
              "      <td>0.396573</td>\n",
              "      <td>-0.300907</td>\n",
              "      <td>0.109784</td>\n",
              "    </tr>\n",
              "    <tr>\n",
              "      <th>25%</th>\n",
              "      <td>4.72410</td>\n",
              "      <td>8.350645</td>\n",
              "      <td>0.737217</td>\n",
              "      <td>58.961712</td>\n",
              "      <td>0.714839</td>\n",
              "      <td>-0.127015</td>\n",
              "      <td>0.683019</td>\n",
              "    </tr>\n",
              "    <tr>\n",
              "      <th>50%</th>\n",
              "      <td>5.51500</td>\n",
              "      <td>9.456313</td>\n",
              "      <td>0.829204</td>\n",
              "      <td>66.305145</td>\n",
              "      <td>0.799805</td>\n",
              "      <td>-0.033665</td>\n",
              "      <td>0.783122</td>\n",
              "    </tr>\n",
              "    <tr>\n",
              "      <th>75%</th>\n",
              "      <td>6.22850</td>\n",
              "      <td>10.265124</td>\n",
              "      <td>0.906747</td>\n",
              "      <td>69.289192</td>\n",
              "      <td>0.877709</td>\n",
              "      <td>0.085429</td>\n",
              "      <td>0.849151</td>\n",
              "    </tr>\n",
              "    <tr>\n",
              "      <th>max</th>\n",
              "      <td>7.80870</td>\n",
              "      <td>11.450681</td>\n",
              "      <td>0.974670</td>\n",
              "      <td>76.804581</td>\n",
              "      <td>0.974998</td>\n",
              "      <td>0.560664</td>\n",
              "      <td>0.935585</td>\n",
              "    </tr>\n",
              "  </tbody>\n",
              "</table>\n",
              "</div>"
            ],
            "text/plain": [
              "       Ladder score  ...  Perceptions of corruption\n",
              "count     153.00000  ...                 153.000000\n",
              "mean        5.47324  ...                   0.733120\n",
              "std         1.11227  ...                   0.175172\n",
              "min         2.56690  ...                   0.109784\n",
              "25%         4.72410  ...                   0.683019\n",
              "50%         5.51500  ...                   0.783122\n",
              "75%         6.22850  ...                   0.849151\n",
              "max         7.80870  ...                   0.935585\n",
              "\n",
              "[8 rows x 7 columns]"
            ]
          },
          "metadata": {
            "tags": []
          },
          "execution_count": 9
        }
      ]
    },
    {
      "cell_type": "code",
      "metadata": {
        "id": "mgp0UCu4cYi0",
        "colab_type": "code",
        "colab": {
          "base_uri": "https://localhost:8080/",
          "height": 286
        },
        "outputId": "d254c56f-6944-4a99-b1a3-65febbfa2850"
      },
      "source": [
        "happiness_df.info()"
      ],
      "execution_count": 10,
      "outputs": [
        {
          "output_type": "stream",
          "text": [
            "<class 'pandas.core.frame.DataFrame'>\n",
            "RangeIndex: 153 entries, 0 to 152\n",
            "Data columns (total 9 columns):\n",
            " #   Column                        Non-Null Count  Dtype  \n",
            "---  ------                        --------------  -----  \n",
            " 0   Country name                  153 non-null    object \n",
            " 1   Regional indicator            153 non-null    object \n",
            " 2   Ladder score                  153 non-null    float64\n",
            " 3   Logged GDP per capita         153 non-null    float64\n",
            " 4   Social support                153 non-null    float64\n",
            " 5   Healthy life expectancy       153 non-null    float64\n",
            " 6   Freedom to make life choices  153 non-null    float64\n",
            " 7   Generosity                    153 non-null    float64\n",
            " 8   Perceptions of corruption     153 non-null    float64\n",
            "dtypes: float64(7), object(2)\n",
            "memory usage: 10.9+ KB\n"
          ],
          "name": "stdout"
        }
      ]
    },
    {
      "cell_type": "markdown",
      "metadata": {
        "id": "M7nXEFHccYi6",
        "colab_type": "text"
      },
      "source": [
        "## Exploratory Analysis and Visualization\n",
        "\n"
      ]
    },
    {
      "cell_type": "markdown",
      "metadata": {
        "id": "5P9nT0MkF44x",
        "colab_type": "text"
      },
      "source": [
        "### **Q1: What is the region wise ladder score ?**"
      ]
    },
    {
      "cell_type": "code",
      "metadata": {
        "id": "swvMxPS1cYi6",
        "colab_type": "code",
        "colab": {
          "base_uri": "https://localhost:8080/",
          "height": 343
        },
        "outputId": "01d346e1-f290-428c-9f30-5550cfd2b0f0"
      },
      "source": [
        "happiness_region_df = happiness_df.groupby('Regional indicator')[['Ladder score']].mean().reset_index()\n",
        "happiness_region_df.sort_values('Ladder score',ascending = False)"
      ],
      "execution_count": 11,
      "outputs": [
        {
          "output_type": "execute_result",
          "data": {
            "text/html": [
              "<div>\n",
              "<style scoped>\n",
              "    .dataframe tbody tr th:only-of-type {\n",
              "        vertical-align: middle;\n",
              "    }\n",
              "\n",
              "    .dataframe tbody tr th {\n",
              "        vertical-align: top;\n",
              "    }\n",
              "\n",
              "    .dataframe thead th {\n",
              "        text-align: right;\n",
              "    }\n",
              "</style>\n",
              "<table border=\"1\" class=\"dataframe\">\n",
              "  <thead>\n",
              "    <tr style=\"text-align: right;\">\n",
              "      <th></th>\n",
              "      <th>Regional indicator</th>\n",
              "      <th>Ladder score</th>\n",
              "    </tr>\n",
              "  </thead>\n",
              "  <tbody>\n",
              "    <tr>\n",
              "      <th>5</th>\n",
              "      <td>North America and ANZ</td>\n",
              "      <td>7.173525</td>\n",
              "    </tr>\n",
              "    <tr>\n",
              "      <th>9</th>\n",
              "      <td>Western Europe</td>\n",
              "      <td>6.899219</td>\n",
              "    </tr>\n",
              "    <tr>\n",
              "      <th>3</th>\n",
              "      <td>Latin America and Caribbean</td>\n",
              "      <td>5.981786</td>\n",
              "    </tr>\n",
              "    <tr>\n",
              "      <th>0</th>\n",
              "      <td>Central and Eastern Europe</td>\n",
              "      <td>5.883818</td>\n",
              "    </tr>\n",
              "    <tr>\n",
              "      <th>2</th>\n",
              "      <td>East Asia</td>\n",
              "      <td>5.714850</td>\n",
              "    </tr>\n",
              "    <tr>\n",
              "      <th>7</th>\n",
              "      <td>Southeast Asia</td>\n",
              "      <td>5.383367</td>\n",
              "    </tr>\n",
              "    <tr>\n",
              "      <th>1</th>\n",
              "      <td>Commonwealth of Independent States</td>\n",
              "      <td>5.358342</td>\n",
              "    </tr>\n",
              "    <tr>\n",
              "      <th>4</th>\n",
              "      <td>Middle East and North Africa</td>\n",
              "      <td>5.227159</td>\n",
              "    </tr>\n",
              "    <tr>\n",
              "      <th>6</th>\n",
              "      <td>South Asia</td>\n",
              "      <td>4.475443</td>\n",
              "    </tr>\n",
              "    <tr>\n",
              "      <th>8</th>\n",
              "      <td>Sub-Saharan Africa</td>\n",
              "      <td>4.383495</td>\n",
              "    </tr>\n",
              "  </tbody>\n",
              "</table>\n",
              "</div>"
            ],
            "text/plain": [
              "                   Regional indicator  Ladder score\n",
              "5               North America and ANZ      7.173525\n",
              "9                      Western Europe      6.899219\n",
              "3         Latin America and Caribbean      5.981786\n",
              "0          Central and Eastern Europe      5.883818\n",
              "2                           East Asia      5.714850\n",
              "7                      Southeast Asia      5.383367\n",
              "1  Commonwealth of Independent States      5.358342\n",
              "4        Middle East and North Africa      5.227159\n",
              "6                          South Asia      4.475443\n",
              "8                  Sub-Saharan Africa      4.383495"
            ]
          },
          "metadata": {
            "tags": []
          },
          "execution_count": 11
        }
      ]
    },
    {
      "cell_type": "markdown",
      "metadata": {
        "id": "U5TjY3s3I-Ln",
        "colab_type": "text"
      },
      "source": [
        "### **Q2 :Plot the graph of relation beteen Geographical location and Ladder Score**"
      ]
    },
    {
      "cell_type": "code",
      "metadata": {
        "id": "U9112n0dcYi9",
        "colab_type": "code",
        "colab": {
          "base_uri": "https://localhost:8080/",
          "height": 606
        },
        "outputId": "e82f302e-0aeb-4851-b1da-87f6f275b859"
      },
      "source": [
        "plt.figure(figsize=(20, 10))\n",
        "sns.barplot('Ladder score', 'Regional indicator', data=happiness_region_df,order=happiness_region_df.sort_values('Ladder score')['Regional indicator']);"
      ],
      "execution_count": 12,
      "outputs": [
        {
          "output_type": "display_data",
          "data": {
            "image/png": "[encoded data removed]",
            "text/plain": [
              "<Figure size 1440x720 with 1 Axes>"
            ]
          },
          "metadata": {
            "tags": [],
            "needs_background": "light"
          }
        }
      ]
    },
    {
      "cell_type": "markdown",
      "metadata": {
        "id": "Hp1CpdLKpqQD",
        "colab_type": "text"
      },
      "source": [
        "### **Q3: Relation of Happiness Index of South Asian countries with its Freedom Index**"
      ]
    },
    {
      "cell_type": "code",
      "metadata": {
        "id": "ccaHk414cYjC",
        "colab_type": "code",
        "colab": {
          "base_uri": "https://localhost:8080/",
          "height": 254
        },
        "outputId": "d50c2fe4-9525-4508-d0bf-39974868fd5d"
      },
      "source": [
        "asian_countries_df = happiness_df[happiness_df['Regional indicator'] == 'South Asia']\n",
        "asian_countries_df.sort_values('Ladder score',ascending=False)[['Country name','Ladder score','Freedom to make life choices']].reset_index(drop = True)"
      ],
      "execution_count": 13,
      "outputs": [
        {
          "output_type": "execute_result",
          "data": {
            "text/html": [
              "<div>\n",
              "<style scoped>\n",
              "    .dataframe tbody tr th:only-of-type {\n",
              "        vertical-align: middle;\n",
              "    }\n",
              "\n",
              "    .dataframe tbody tr th {\n",
              "        vertical-align: top;\n",
              "    }\n",
              "\n",
              "    .dataframe thead th {\n",
              "        text-align: right;\n",
              "    }\n",
              "</style>\n",
              "<table border=\"1\" class=\"dataframe\">\n",
              "  <thead>\n",
              "    <tr style=\"text-align: right;\">\n",
              "      <th></th>\n",
              "      <th>Country name</th>\n",
              "      <th>Ladder score</th>\n",
              "      <th>Freedom to make life choices</th>\n",
              "    </tr>\n",
              "  </thead>\n",
              "  <tbody>\n",
              "    <tr>\n",
              "      <th>0</th>\n",
              "      <td>Pakistan</td>\n",
              "      <td>5.6933</td>\n",
              "      <td>0.734834</td>\n",
              "    </tr>\n",
              "    <tr>\n",
              "      <th>1</th>\n",
              "      <td>Maldives</td>\n",
              "      <td>5.1976</td>\n",
              "      <td>0.853963</td>\n",
              "    </tr>\n",
              "    <tr>\n",
              "      <th>2</th>\n",
              "      <td>Nepal</td>\n",
              "      <td>5.1372</td>\n",
              "      <td>0.797565</td>\n",
              "    </tr>\n",
              "    <tr>\n",
              "      <th>3</th>\n",
              "      <td>Bangladesh</td>\n",
              "      <td>4.8328</td>\n",
              "      <td>0.900625</td>\n",
              "    </tr>\n",
              "    <tr>\n",
              "      <th>4</th>\n",
              "      <td>Sri Lanka</td>\n",
              "      <td>4.3270</td>\n",
              "      <td>0.837634</td>\n",
              "    </tr>\n",
              "    <tr>\n",
              "      <th>5</th>\n",
              "      <td>India</td>\n",
              "      <td>3.5733</td>\n",
              "      <td>0.881445</td>\n",
              "    </tr>\n",
              "    <tr>\n",
              "      <th>6</th>\n",
              "      <td>Afghanistan</td>\n",
              "      <td>2.5669</td>\n",
              "      <td>0.396573</td>\n",
              "    </tr>\n",
              "  </tbody>\n",
              "</table>\n",
              "</div>"
            ],
            "text/plain": [
              "  Country name  Ladder score  Freedom to make life choices\n",
              "0     Pakistan        5.6933                      0.734834\n",
              "1     Maldives        5.1976                      0.853963\n",
              "2        Nepal        5.1372                      0.797565\n",
              "3   Bangladesh        4.8328                      0.900625\n",
              "4    Sri Lanka        4.3270                      0.837634\n",
              "5        India        3.5733                      0.881445\n",
              "6  Afghanistan        2.5669                      0.396573"
            ]
          },
          "metadata": {
            "tags": []
          },
          "execution_count": 13
        }
      ]
    },
    {
      "cell_type": "markdown",
      "metadata": {
        "id": "T0aFW7O5vK7S",
        "colab_type": "text"
      },
      "source": [
        "### **Q4: Plot of Relation of Happiness Index of South Asian countries with its Freedom Index**"
      ]
    },
    {
      "cell_type": "code",
      "metadata": {
        "id": "PpXGwBTHcYjE",
        "colab_type": "code",
        "colab": {
          "base_uri": "https://localhost:8080/",
          "height": 622
        },
        "outputId": "37620e31-345c-4969-e5b4-5963c2af1180"
      },
      "source": [
        "plt.figure(figsize=(20, 10))\n",
        "plt.bar(asian_countries_df['Country name'], asian_countries_df['Freedom to make life choices'] );\n",
        "plt.bar(asian_countries_df['Country name'], asian_countries_df['Ladder score'],bottom=asian_countries_df['Freedom to make life choices'])\n",
        "\n",
        "plt.xlabel('Country Name')\n",
        "plt.ylabel('Freedom to make life choices/Ladder score')\n"
      ],
      "execution_count": 14,
      "outputs": [
        {
          "output_type": "execute_result",
          "data": {
            "text/plain": [
              "Text(0, 0.5, 'Freedom to make life choices/Ladder score')"
            ]
          },
          "metadata": {
            "tags": []
          },
          "execution_count": 14
        },
        {
          "output_type": "display_data",
          "data": {
            "image/png": "[encoded data removed]",
            "text/plain": [
              "<Figure size 1440x720 with 1 Axes>"
            ]
          },
          "metadata": {
            "tags": [],
            "needs_background": "light"
          }
        }
      ]
    },
    {
      "cell_type": "markdown",
      "metadata": {
        "id": "ZrgzOg5BMOoH",
        "colab_type": "text"
      },
      "source": [
        "From the above plot we can conclude that the ladder score of South Asian countries is independent of its Freedom index."
      ]
    },
    {
      "cell_type": "code",
      "metadata": {
        "id": "RwDyon7Ihx5k",
        "colab_type": "code",
        "colab": {
          "base_uri": "https://localhost:8080/",
          "height": 394
        },
        "outputId": "3f26c94b-da0c-4189-a514-a80136a538e8"
      },
      "source": [
        "happiness_df.sample(10)"
      ],
      "execution_count": 15,
      "outputs": [
        {
          "output_type": "execute_result",
          "data": {
            "text/html": [
              "<div>\n",
              "<style scoped>\n",
              "    .dataframe tbody tr th:only-of-type {\n",
              "        vertical-align: middle;\n",
              "    }\n",
              "\n",
              "    .dataframe tbody tr th {\n",
              "        vertical-align: top;\n",
              "    }\n",
              "\n",
              "    .dataframe thead th {\n",
              "        text-align: right;\n",
              "    }\n",
              "</style>\n",
              "<table border=\"1\" class=\"dataframe\">\n",
              "  <thead>\n",
              "    <tr style=\"text-align: right;\">\n",
              "      <th></th>\n",
              "      <th>Country name</th>\n",
              "      <th>Regional indicator</th>\n",
              "      <th>Ladder score</th>\n",
              "      <th>Logged GDP per capita</th>\n",
              "      <th>Social support</th>\n",
              "      <th>Healthy life expectancy</th>\n",
              "      <th>Freedom to make life choices</th>\n",
              "      <th>Generosity</th>\n",
              "      <th>Perceptions of corruption</th>\n",
              "    </tr>\n",
              "  </thead>\n",
              "  <tbody>\n",
              "    <tr>\n",
              "      <th>50</th>\n",
              "      <td>Estonia</td>\n",
              "      <td>Central and Eastern Europe</td>\n",
              "      <td>6.0218</td>\n",
              "      <td>10.340017</td>\n",
              "      <td>0.934730</td>\n",
              "      <td>68.604958</td>\n",
              "      <td>0.877709</td>\n",
              "      <td>-0.111698</td>\n",
              "      <td>0.623074</td>\n",
              "    </tr>\n",
              "    <tr>\n",
              "      <th>71</th>\n",
              "      <td>Montenegro</td>\n",
              "      <td>Central and Eastern Europe</td>\n",
              "      <td>5.5461</td>\n",
              "      <td>9.751861</td>\n",
              "      <td>0.855315</td>\n",
              "      <td>68.505348</td>\n",
              "      <td>0.649566</td>\n",
              "      <td>-0.075600</td>\n",
              "      <td>0.783122</td>\n",
              "    </tr>\n",
              "    <tr>\n",
              "      <th>124</th>\n",
              "      <td>Palestinian Territories</td>\n",
              "      <td>Middle East and North Africa</td>\n",
              "      <td>4.5528</td>\n",
              "      <td>8.389223</td>\n",
              "      <td>0.825296</td>\n",
              "      <td>62.250000</td>\n",
              "      <td>0.645792</td>\n",
              "      <td>-0.162079</td>\n",
              "      <td>0.824200</td>\n",
              "    </tr>\n",
              "    <tr>\n",
              "      <th>80</th>\n",
              "      <td>Mongolia</td>\n",
              "      <td>East Asia</td>\n",
              "      <td>5.4562</td>\n",
              "      <td>9.412187</td>\n",
              "      <td>0.937142</td>\n",
              "      <td>62.304485</td>\n",
              "      <td>0.693351</td>\n",
              "      <td>0.098094</td>\n",
              "      <td>0.863511</td>\n",
              "    </tr>\n",
              "    <tr>\n",
              "      <th>31</th>\n",
              "      <td>Brazil</td>\n",
              "      <td>Latin America and Caribbean</td>\n",
              "      <td>6.3756</td>\n",
              "      <td>9.566435</td>\n",
              "      <td>0.896724</td>\n",
              "      <td>66.480164</td>\n",
              "      <td>0.799805</td>\n",
              "      <td>-0.101812</td>\n",
              "      <td>0.770601</td>\n",
              "    </tr>\n",
              "    <tr>\n",
              "      <th>62</th>\n",
              "      <td>Peru</td>\n",
              "      <td>Latin America and Caribbean</td>\n",
              "      <td>5.7968</td>\n",
              "      <td>9.456313</td>\n",
              "      <td>0.831075</td>\n",
              "      <td>68.100235</td>\n",
              "      <td>0.824766</td>\n",
              "      <td>-0.162388</td>\n",
              "      <td>0.893715</td>\n",
              "    </tr>\n",
              "    <tr>\n",
              "      <th>149</th>\n",
              "      <td>Rwanda</td>\n",
              "      <td>Sub-Saharan Africa</td>\n",
              "      <td>3.3123</td>\n",
              "      <td>7.600104</td>\n",
              "      <td>0.540835</td>\n",
              "      <td>61.098846</td>\n",
              "      <td>0.900589</td>\n",
              "      <td>0.055484</td>\n",
              "      <td>0.183541</td>\n",
              "    </tr>\n",
              "    <tr>\n",
              "      <th>72</th>\n",
              "      <td>Russia</td>\n",
              "      <td>Commonwealth of Independent States</td>\n",
              "      <td>5.5460</td>\n",
              "      <td>10.128872</td>\n",
              "      <td>0.903151</td>\n",
              "      <td>64.100456</td>\n",
              "      <td>0.729893</td>\n",
              "      <td>-0.151154</td>\n",
              "      <td>0.864803</td>\n",
              "    </tr>\n",
              "    <tr>\n",
              "      <th>8</th>\n",
              "      <td>Austria</td>\n",
              "      <td>Western Europe</td>\n",
              "      <td>7.2942</td>\n",
              "      <td>10.742824</td>\n",
              "      <td>0.928046</td>\n",
              "      <td>73.002502</td>\n",
              "      <td>0.899989</td>\n",
              "      <td>0.085429</td>\n",
              "      <td>0.499955</td>\n",
              "    </tr>\n",
              "    <tr>\n",
              "      <th>125</th>\n",
              "      <td>Uganda</td>\n",
              "      <td>Sub-Saharan Africa</td>\n",
              "      <td>4.4320</td>\n",
              "      <td>7.500390</td>\n",
              "      <td>0.764995</td>\n",
              "      <td>55.708202</td>\n",
              "      <td>0.731714</td>\n",
              "      <td>0.099487</td>\n",
              "      <td>0.836738</td>\n",
              "    </tr>\n",
              "  </tbody>\n",
              "</table>\n",
              "</div>"
            ],
            "text/plain": [
              "                Country name  ... Perceptions of corruption\n",
              "50                   Estonia  ...                  0.623074\n",
              "71                Montenegro  ...                  0.783122\n",
              "124  Palestinian Territories  ...                  0.824200\n",
              "80                  Mongolia  ...                  0.863511\n",
              "31                    Brazil  ...                  0.770601\n",
              "62                      Peru  ...                  0.893715\n",
              "149                   Rwanda  ...                  0.183541\n",
              "72                    Russia  ...                  0.864803\n",
              "8                    Austria  ...                  0.499955\n",
              "125                   Uganda  ...                  0.836738\n",
              "\n",
              "[10 rows x 9 columns]"
            ]
          },
          "metadata": {
            "tags": []
          },
          "execution_count": 15
        }
      ]
    },
    {
      "cell_type": "markdown",
      "metadata": {
        "id": "ABmhNjyZcYjK",
        "colab_type": "text"
      },
      "source": [
        "### **Q5: What is the relation between Ladder score of Geographical lation and its mean Healthy life expectancy**\n",
        "\n"
      ]
    },
    {
      "cell_type": "code",
      "metadata": {
        "id": "rSzxveqzcYjK",
        "colab_type": "code",
        "colab": {
          "base_uri": "https://localhost:8080/",
          "height": 343
        },
        "outputId": "19cd327a-d0b2-4d1c-95f1-aef3d155c0a1"
      },
      "source": [
        "geo_healthdf = happiness_df.groupby('Regional indicator').mean().reset_index()\n",
        "geo_healthdf = geo_healthdf[['Regional indicator','Ladder score','Healthy life expectancy']]\n",
        "geo_healthdf = geo_healthdf.sort_values('Ladder score',ascending=False)\n",
        "geo_healthdf"
      ],
      "execution_count": 34,
      "outputs": [
        {
          "output_type": "execute_result",
          "data": {
            "text/html": [
              "<div>\n",
              "<style scoped>\n",
              "    .dataframe tbody tr th:only-of-type {\n",
              "        vertical-align: middle;\n",
              "    }\n",
              "\n",
              "    .dataframe tbody tr th {\n",
              "        vertical-align: top;\n",
              "    }\n",
              "\n",
              "    .dataframe thead th {\n",
              "        text-align: right;\n",
              "    }\n",
              "</style>\n",
              "<table border=\"1\" class=\"dataframe\">\n",
              "  <thead>\n",
              "    <tr style=\"text-align: right;\">\n",
              "      <th></th>\n",
              "      <th>Regional indicator</th>\n",
              "      <th>Ladder score</th>\n",
              "      <th>Healthy life expectancy</th>\n",
              "    </tr>\n",
              "  </thead>\n",
              "  <tbody>\n",
              "    <tr>\n",
              "      <th>5</th>\n",
              "      <td>North America and ANZ</td>\n",
              "      <td>7.173525</td>\n",
              "      <td>72.177067</td>\n",
              "    </tr>\n",
              "    <tr>\n",
              "      <th>9</th>\n",
              "      <td>Western Europe</td>\n",
              "      <td>6.899219</td>\n",
              "      <td>72.863565</td>\n",
              "    </tr>\n",
              "    <tr>\n",
              "      <th>3</th>\n",
              "      <td>Latin America and Caribbean</td>\n",
              "      <td>5.981786</td>\n",
              "      <td>66.717328</td>\n",
              "    </tr>\n",
              "    <tr>\n",
              "      <th>0</th>\n",
              "      <td>Central and Eastern Europe</td>\n",
              "      <td>5.883818</td>\n",
              "      <td>68.148988</td>\n",
              "    </tr>\n",
              "    <tr>\n",
              "      <th>2</th>\n",
              "      <td>East Asia</td>\n",
              "      <td>5.714850</td>\n",
              "      <td>71.094847</td>\n",
              "    </tr>\n",
              "    <tr>\n",
              "      <th>7</th>\n",
              "      <td>Southeast Asia</td>\n",
              "      <td>5.383367</td>\n",
              "      <td>64.710476</td>\n",
              "    </tr>\n",
              "    <tr>\n",
              "      <th>1</th>\n",
              "      <td>Commonwealth of Independent States</td>\n",
              "      <td>5.358342</td>\n",
              "      <td>64.726558</td>\n",
              "    </tr>\n",
              "    <tr>\n",
              "      <th>4</th>\n",
              "      <td>Middle East and North Africa</td>\n",
              "      <td>5.227159</td>\n",
              "      <td>65.313611</td>\n",
              "    </tr>\n",
              "    <tr>\n",
              "      <th>6</th>\n",
              "      <td>South Asia</td>\n",
              "      <td>4.475443</td>\n",
              "      <td>62.448662</td>\n",
              "    </tr>\n",
              "    <tr>\n",
              "      <th>8</th>\n",
              "      <td>Sub-Saharan Africa</td>\n",
              "      <td>4.383495</td>\n",
              "      <td>55.091591</td>\n",
              "    </tr>\n",
              "  </tbody>\n",
              "</table>\n",
              "</div>"
            ],
            "text/plain": [
              "                   Regional indicator  Ladder score  Healthy life expectancy\n",
              "5               North America and ANZ      7.173525                72.177067\n",
              "9                      Western Europe      6.899219                72.863565\n",
              "3         Latin America and Caribbean      5.981786                66.717328\n",
              "0          Central and Eastern Europe      5.883818                68.148988\n",
              "2                           East Asia      5.714850                71.094847\n",
              "7                      Southeast Asia      5.383367                64.710476\n",
              "1  Commonwealth of Independent States      5.358342                64.726558\n",
              "4        Middle East and North Africa      5.227159                65.313611\n",
              "6                          South Asia      4.475443                62.448662\n",
              "8                  Sub-Saharan Africa      4.383495                55.091591"
            ]
          },
          "metadata": {
            "tags": []
          },
          "execution_count": 34
        }
      ]
    },
    {
      "cell_type": "markdown",
      "metadata": {
        "id": "2x9RqD41k4Iy",
        "colab_type": "text"
      },
      "source": [
        "### **Q6: Plot the relation between Ladder score of Geographical location and its mean Healthy life expectancy**"
      ]
    },
    {
      "cell_type": "code",
      "metadata": {
        "id": "Wcz5LyqkcYjM",
        "colab_type": "code",
        "colab": {
          "base_uri": "https://localhost:8080/",
          "height": 518
        },
        "outputId": "106ee8c8-2ed6-4849-d9f3-616beb74e065"
      },
      "source": [
        "plt.figure(figsize=(30, 10))\n",
        "plt.bar(geo_healthdf['Regional indicator'], geo_healthdf['Ladder score'] );\n",
        "plt.bar(geo_healthdf['Regional indicator'], geo_healthdf['Healthy life expectancy'],bottom=geo_healthdf['Ladder score'])\n",
        "\n",
        "plt.xlabel('Country Name')\n",
        "plt.ylabel('Ladder score/Healthy life expectancy')"
      ],
      "execution_count": 35,
      "outputs": [
        {
          "output_type": "execute_result",
          "data": {
            "text/plain": [
              "Text(0, 0.5, 'Ladder score/Healthy life expectancy')"
            ]
          },
          "metadata": {
            "tags": []
          },
          "execution_count": 35
        },
        {
          "output_type": "display_data",
          "data": {
            "image/png": "[encoded data removed]",
            "text/plain": [
              "<Figure size 2160x720 with 1 Axes>"
            ]
          },
          "metadata": {
            "tags": [],
            "needs_background": "light"
          }
        }
      ]
    },
    {
      "cell_type": "markdown",
      "metadata": {
        "id": "-s86xcQbphqN",
        "colab_type": "text"
      },
      "source": [
        "We observe that there is a linear relation between Ladder score of Geographical location and its mean Healthy life expectancy. So we can conclude that Happiness of a region is largely depended on its healthcare system."
      ]
    },
    {
      "cell_type": "code",
      "metadata": {
        "id": "L4T60ZNgcYjP",
        "colab_type": "code",
        "colab": {}
      },
      "source": [
        ""
      ],
      "execution_count": null,
      "outputs": []
    },
    {
      "cell_type": "code",
      "metadata": {
        "id": "VWvxba1ecYjR",
        "colab_type": "code",
        "colab": {}
      },
      "source": [
        ""
      ],
      "execution_count": null,
      "outputs": []
    },
    {
      "cell_type": "code",
      "metadata": {
        "id": "TL6bnuuDcYjT",
        "colab_type": "code",
        "colab": {}
      },
      "source": [
        ""
      ],
      "execution_count": null,
      "outputs": []
    },
    {
      "cell_type": "code",
      "metadata": {
        "id": "PN8NYSaLcYjV",
        "colab_type": "code",
        "colab": {}
      },
      "source": [
        ""
      ],
      "execution_count": null,
      "outputs": []
    },
    {
      "cell_type": "code",
      "metadata": {
        "id": "US7O_-GfcYjX",
        "colab_type": "code",
        "colab": {}
      },
      "source": [
        ""
      ],
      "execution_count": null,
      "outputs": []
    },
    {
      "cell_type": "markdown",
      "metadata": {
        "id": "AKyNNhzMcYje",
        "colab_type": "text"
      },
      "source": [
        "## Inferences and Conclusion\n",
        "\n",
        "TODO"
      ]
    },
    {
      "cell_type": "code",
      "metadata": {
        "id": "ohvCFRWBcYjf",
        "colab_type": "code",
        "colab": {}
      },
      "source": [
        ""
      ],
      "execution_count": null,
      "outputs": []
    },
    {
      "cell_type": "code",
      "metadata": {
        "id": "4yD8Q_l_cYjh",
        "colab_type": "code",
        "colab": {}
      },
      "source": [
        ""
      ],
      "execution_count": null,
      "outputs": []
    },
    {
      "cell_type": "code",
      "metadata": {
        "id": "3VBFD3BYcYjl",
        "colab_type": "code",
        "colab": {}
      },
      "source": [
        ""
      ],
      "execution_count": null,
      "outputs": []
    },
    {
      "cell_type": "markdown",
      "metadata": {
        "id": "GaKujMCncYjq",
        "colab_type": "text"
      },
      "source": [
        "## References and Future Work\n",
        "\n",
        "TODO"
      ]
    },
    {
      "cell_type": "code",
      "metadata": {
        "id": "9uDFfNG1cYju",
        "colab_type": "code",
        "colab": {}
      },
      "source": [
        ""
      ],
      "execution_count": null,
      "outputs": []
    }
  ]
}