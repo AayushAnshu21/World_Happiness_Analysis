{
  "nbformat": 4,
  "nbformat_minor": 0,
  "metadata": {
    "kernelspec": {
      "display_name": "Python 3",
      "language": "python",
      "name": "python3"
    },
    "language_info": {
      "codemirror_mode": {
        "name": "ipython",
        "version": 3
      },
      "file_extension": ".py",
      "mimetype": "text/x-python",
      "name": "python",
      "nbconvert_exporter": "python",
      "pygments_lexer": "ipython3",
      "version": "3.8.5"
    },
    "colab": {
      "name": "World_Happiness_Analysis.ipynb",
      "provenance": [],
      "collapsed_sections": [],
      "include_colab_link": true
    }
  },
  "cells": [
    {
      "cell_type": "markdown",
      "metadata": {
        "id": "view-in-github",
        "colab_type": "text"
      },
      "source": [
        "<a href=\"https://colab.research.google.com/github/AayushAnshu21/World_Happiness_Analysis/blob/master/World_Happiness_Analysis.ipynb\" target=\"_parent\"><img src=\"https://colab.research.google.com/assets/colab-badge.svg\" alt=\"Open In Colab\"/></a>"
      ]
    },
    {
      "cell_type": "markdown",
      "metadata": {
        "id": "QzYTfhmYcYiY",
        "colab_type": "text"
      },
      "source": [
        "# World Happiness Analysis\n",
        "\n",
        "In this project I have anaysed the relation of world happiness index of various countries with that country's Economic condition, Freedom index , Government corruption , Life expectancy and Geographical location.\n",
        "\n",
        "The csv file used in this analysis was taken from [Kaggle](https://www.kaggle.com/mathurinache/world-happiness-report). This project is part of the assignment for the course [Data Analysis with Python: Zero to Pandas](http://zerotopandas.com).\n",
        "\n",
        "\n"
      ]
    },
    {
      "cell_type": "code",
      "metadata": {
        "id": "RWBTt6xvcYiZ",
        "colab_type": "code",
        "colab": {}
      },
      "source": [
        "project_name = \"World_Happiness_Analysis\" "
      ],
      "execution_count": 2,
      "outputs": []
    },
    {
      "cell_type": "markdown",
      "metadata": {
        "id": "Ucjl7wKhcYim",
        "colab_type": "text"
      },
      "source": [
        "## Data Preparation and Cleaning\n",
        "\n",
        "We will import required libraries i.e  Pandas , Matplotlib and seaborn .We will also upload required csv file."
      ]
    },
    {
      "cell_type": "code",
      "metadata": {
        "id": "5p24TAWgcYin",
        "colab_type": "code",
        "colab": {
          "base_uri": "https://localhost:8080/",
          "height": 70
        },
        "outputId": "f8cbce51-5e85-4d56-b9cc-3f938100762b"
      },
      "source": [
        "import pandas as pd\n",
        "from urllib.request import urlretrieve\n",
        "import matplotlib.pyplot as plt\n",
        "import seaborn as sns\n",
        "sns.set_style(\"whitegrid\")\n",
        "%matplotlib inline"
      ],
      "execution_count": 3,
      "outputs": [
        {
          "output_type": "stream",
          "text": [
            "/usr/local/lib/python3.6/dist-packages/statsmodels/tools/_testing.py:19: FutureWarning: pandas.util.testing is deprecated. Use the functions in the public API at pandas.testing instead.\n",
            "  import pandas.util.testing as tm\n"
          ],
          "name": "stderr"
        }
      ]
    },
    {
      "cell_type": "code",
      "metadata": {
        "id": "AihfFzFbcYir",
        "colab_type": "code",
        "colab": {
          "base_uri": "https://localhost:8080/",
          "height": 383
        },
        "outputId": "cc9cf887-8ba3-44d8-990a-1ac0ee74de60"
      },
      "source": [
        "happiness_df = pd.read_csv('World_happiness_Index_2020.csv')\n",
        "happiness_df.head(5)"
      ],
      "execution_count": 4,
      "outputs": [
        {
          "output_type": "execute_result",
          "data": {
            "text/html": [
              "<div>\n",
              "<style scoped>\n",
              "    .dataframe tbody tr th:only-of-type {\n",
              "        vertical-align: middle;\n",
              "    }\n",
              "\n",
              "    .dataframe tbody tr th {\n",
              "        vertical-align: top;\n",
              "    }\n",
              "\n",
              "    .dataframe thead th {\n",
              "        text-align: right;\n",
              "    }\n",
              "</style>\n",
              "<table border=\"1\" class=\"dataframe\">\n",
              "  <thead>\n",
              "    <tr style=\"text-align: right;\">\n",
              "      <th></th>\n",
              "      <th>Country name</th>\n",
              "      <th>Regional indicator</th>\n",
              "      <th>Ladder score</th>\n",
              "      <th>Standard error of ladder score</th>\n",
              "      <th>upperwhisker</th>\n",
              "      <th>lowerwhisker</th>\n",
              "      <th>Logged GDP per capita</th>\n",
              "      <th>Social support</th>\n",
              "      <th>Healthy life expectancy</th>\n",
              "      <th>Freedom to make life choices</th>\n",
              "      <th>Generosity</th>\n",
              "      <th>Perceptions of corruption</th>\n",
              "      <th>Ladder score in Dystopia</th>\n",
              "      <th>Explained by: Log GDP per capita</th>\n",
              "      <th>Explained by: Social support</th>\n",
              "      <th>Explained by: Healthy life expectancy</th>\n",
              "      <th>Explained by: Freedom to make life choices</th>\n",
              "      <th>Explained by: Generosity</th>\n",
              "      <th>Explained by: Perceptions of corruption</th>\n",
              "      <th>Dystopia + residual</th>\n",
              "    </tr>\n",
              "  </thead>\n",
              "  <tbody>\n",
              "    <tr>\n",
              "      <th>0</th>\n",
              "      <td>Finland</td>\n",
              "      <td>Western Europe</td>\n",
              "      <td>7.8087</td>\n",
              "      <td>0.031156</td>\n",
              "      <td>7.869766</td>\n",
              "      <td>7.747634</td>\n",
              "      <td>10.639267</td>\n",
              "      <td>0.954330</td>\n",
              "      <td>71.900825</td>\n",
              "      <td>0.949172</td>\n",
              "      <td>-0.059482</td>\n",
              "      <td>0.195445</td>\n",
              "      <td>1.972317</td>\n",
              "      <td>1.285190</td>\n",
              "      <td>1.499526</td>\n",
              "      <td>0.961271</td>\n",
              "      <td>0.662317</td>\n",
              "      <td>0.159670</td>\n",
              "      <td>0.477857</td>\n",
              "      <td>2.762835</td>\n",
              "    </tr>\n",
              "    <tr>\n",
              "      <th>1</th>\n",
              "      <td>Denmark</td>\n",
              "      <td>Western Europe</td>\n",
              "      <td>7.6456</td>\n",
              "      <td>0.033492</td>\n",
              "      <td>7.711245</td>\n",
              "      <td>7.579955</td>\n",
              "      <td>10.774001</td>\n",
              "      <td>0.955991</td>\n",
              "      <td>72.402504</td>\n",
              "      <td>0.951444</td>\n",
              "      <td>0.066202</td>\n",
              "      <td>0.168489</td>\n",
              "      <td>1.972317</td>\n",
              "      <td>1.326949</td>\n",
              "      <td>1.503449</td>\n",
              "      <td>0.979333</td>\n",
              "      <td>0.665040</td>\n",
              "      <td>0.242793</td>\n",
              "      <td>0.495260</td>\n",
              "      <td>2.432741</td>\n",
              "    </tr>\n",
              "    <tr>\n",
              "      <th>2</th>\n",
              "      <td>Switzerland</td>\n",
              "      <td>Western Europe</td>\n",
              "      <td>7.5599</td>\n",
              "      <td>0.035014</td>\n",
              "      <td>7.628528</td>\n",
              "      <td>7.491272</td>\n",
              "      <td>10.979933</td>\n",
              "      <td>0.942847</td>\n",
              "      <td>74.102448</td>\n",
              "      <td>0.921337</td>\n",
              "      <td>0.105911</td>\n",
              "      <td>0.303728</td>\n",
              "      <td>1.972317</td>\n",
              "      <td>1.390774</td>\n",
              "      <td>1.472403</td>\n",
              "      <td>1.040533</td>\n",
              "      <td>0.628954</td>\n",
              "      <td>0.269056</td>\n",
              "      <td>0.407946</td>\n",
              "      <td>2.350267</td>\n",
              "    </tr>\n",
              "    <tr>\n",
              "      <th>3</th>\n",
              "      <td>Iceland</td>\n",
              "      <td>Western Europe</td>\n",
              "      <td>7.5045</td>\n",
              "      <td>0.059616</td>\n",
              "      <td>7.621347</td>\n",
              "      <td>7.387653</td>\n",
              "      <td>10.772559</td>\n",
              "      <td>0.974670</td>\n",
              "      <td>73.000000</td>\n",
              "      <td>0.948892</td>\n",
              "      <td>0.246944</td>\n",
              "      <td>0.711710</td>\n",
              "      <td>1.972317</td>\n",
              "      <td>1.326502</td>\n",
              "      <td>1.547567</td>\n",
              "      <td>1.000843</td>\n",
              "      <td>0.661981</td>\n",
              "      <td>0.362330</td>\n",
              "      <td>0.144541</td>\n",
              "      <td>2.460688</td>\n",
              "    </tr>\n",
              "    <tr>\n",
              "      <th>4</th>\n",
              "      <td>Norway</td>\n",
              "      <td>Western Europe</td>\n",
              "      <td>7.4880</td>\n",
              "      <td>0.034837</td>\n",
              "      <td>7.556281</td>\n",
              "      <td>7.419719</td>\n",
              "      <td>11.087804</td>\n",
              "      <td>0.952487</td>\n",
              "      <td>73.200783</td>\n",
              "      <td>0.955750</td>\n",
              "      <td>0.134533</td>\n",
              "      <td>0.263218</td>\n",
              "      <td>1.972317</td>\n",
              "      <td>1.424207</td>\n",
              "      <td>1.495173</td>\n",
              "      <td>1.008072</td>\n",
              "      <td>0.670201</td>\n",
              "      <td>0.287985</td>\n",
              "      <td>0.434101</td>\n",
              "      <td>2.168266</td>\n",
              "    </tr>\n",
              "  </tbody>\n",
              "</table>\n",
              "</div>"
            ],
            "text/plain": [
              "  Country name  ... Dystopia + residual\n",
              "0      Finland  ...            2.762835\n",
              "1      Denmark  ...            2.432741\n",
              "2  Switzerland  ...            2.350267\n",
              "3      Iceland  ...            2.460688\n",
              "4       Norway  ...            2.168266\n",
              "\n",
              "[5 rows x 20 columns]"
            ]
          },
          "metadata": {
            "tags": []
          },
          "execution_count": 4
        }
      ]
    },
    {
      "cell_type": "markdown",
      "metadata": {
        "id": "KlcWz7N3q5Zg",
        "colab_type": "text"
      },
      "source": [
        "Now we will remove some colums from this dataset which are not required.\n"
      ]
    },
    {
      "cell_type": "code",
      "metadata": {
        "id": "yTQaLWvTcYiw",
        "colab_type": "code",
        "colab": {
          "base_uri": "https://localhost:8080/",
          "height": 195
        },
        "outputId": "5c8f1279-19fd-4ef3-a6b5-4c8d861c3b98"
      },
      "source": [
        "happiness_df.drop(['upperwhisker', 'lowerwhisker','Standard error of ladder score'], axis = 1,inplace = True) \n",
        "happiness_df.drop(happiness_df.loc[:, 'Ladder score in Dystopia': ].columns, axis = 1,inplace = True) \n",
        "happiness_df.head(5)"
      ],
      "execution_count": 5,
      "outputs": [
        {
          "output_type": "execute_result",
          "data": {
            "text/html": [
              "<div>\n",
              "<style scoped>\n",
              "    .dataframe tbody tr th:only-of-type {\n",
              "        vertical-align: middle;\n",
              "    }\n",
              "\n",
              "    .dataframe tbody tr th {\n",
              "        vertical-align: top;\n",
              "    }\n",
              "\n",
              "    .dataframe thead th {\n",
              "        text-align: right;\n",
              "    }\n",
              "</style>\n",
              "<table border=\"1\" class=\"dataframe\">\n",
              "  <thead>\n",
              "    <tr style=\"text-align: right;\">\n",
              "      <th></th>\n",
              "      <th>Country name</th>\n",
              "      <th>Regional indicator</th>\n",
              "      <th>Ladder score</th>\n",
              "      <th>Logged GDP per capita</th>\n",
              "      <th>Social support</th>\n",
              "      <th>Healthy life expectancy</th>\n",
              "      <th>Freedom to make life choices</th>\n",
              "      <th>Generosity</th>\n",
              "      <th>Perceptions of corruption</th>\n",
              "    </tr>\n",
              "  </thead>\n",
              "  <tbody>\n",
              "    <tr>\n",
              "      <th>0</th>\n",
              "      <td>Finland</td>\n",
              "      <td>Western Europe</td>\n",
              "      <td>7.8087</td>\n",
              "      <td>10.639267</td>\n",
              "      <td>0.954330</td>\n",
              "      <td>71.900825</td>\n",
              "      <td>0.949172</td>\n",
              "      <td>-0.059482</td>\n",
              "      <td>0.195445</td>\n",
              "    </tr>\n",
              "    <tr>\n",
              "      <th>1</th>\n",
              "      <td>Denmark</td>\n",
              "      <td>Western Europe</td>\n",
              "      <td>7.6456</td>\n",
              "      <td>10.774001</td>\n",
              "      <td>0.955991</td>\n",
              "      <td>72.402504</td>\n",
              "      <td>0.951444</td>\n",
              "      <td>0.066202</td>\n",
              "      <td>0.168489</td>\n",
              "    </tr>\n",
              "    <tr>\n",
              "      <th>2</th>\n",
              "      <td>Switzerland</td>\n",
              "      <td>Western Europe</td>\n",
              "      <td>7.5599</td>\n",
              "      <td>10.979933</td>\n",
              "      <td>0.942847</td>\n",
              "      <td>74.102448</td>\n",
              "      <td>0.921337</td>\n",
              "      <td>0.105911</td>\n",
              "      <td>0.303728</td>\n",
              "    </tr>\n",
              "    <tr>\n",
              "      <th>3</th>\n",
              "      <td>Iceland</td>\n",
              "      <td>Western Europe</td>\n",
              "      <td>7.5045</td>\n",
              "      <td>10.772559</td>\n",
              "      <td>0.974670</td>\n",
              "      <td>73.000000</td>\n",
              "      <td>0.948892</td>\n",
              "      <td>0.246944</td>\n",
              "      <td>0.711710</td>\n",
              "    </tr>\n",
              "    <tr>\n",
              "      <th>4</th>\n",
              "      <td>Norway</td>\n",
              "      <td>Western Europe</td>\n",
              "      <td>7.4880</td>\n",
              "      <td>11.087804</td>\n",
              "      <td>0.952487</td>\n",
              "      <td>73.200783</td>\n",
              "      <td>0.955750</td>\n",
              "      <td>0.134533</td>\n",
              "      <td>0.263218</td>\n",
              "    </tr>\n",
              "  </tbody>\n",
              "</table>\n",
              "</div>"
            ],
            "text/plain": [
              "  Country name Regional indicator  ...  Generosity  Perceptions of corruption\n",
              "0      Finland     Western Europe  ...   -0.059482                   0.195445\n",
              "1      Denmark     Western Europe  ...    0.066202                   0.168489\n",
              "2  Switzerland     Western Europe  ...    0.105911                   0.303728\n",
              "3      Iceland     Western Europe  ...    0.246944                   0.711710\n",
              "4       Norway     Western Europe  ...    0.134533                   0.263218\n",
              "\n",
              "[5 rows x 9 columns]"
            ]
          },
          "metadata": {
            "tags": []
          },
          "execution_count": 5
        }
      ]
    },
    {
      "cell_type": "markdown",
      "metadata": {
        "id": "hPCIgf8jALRN",
        "colab_type": "text"
      },
      "source": [
        " **Statistics of Given Datasets**"
      ]
    },
    {
      "cell_type": "code",
      "metadata": {
        "id": "jPojcd5DcYiy",
        "colab_type": "code",
        "colab": {
          "base_uri": "https://localhost:8080/",
          "height": 284
        },
        "outputId": "b4e8be26-b294-4cff-cf5e-fac65e907c51"
      },
      "source": [
        "happiness_df.describe()"
      ],
      "execution_count": 6,
      "outputs": [
        {
          "output_type": "execute_result",
          "data": {
            "text/html": [
              "<div>\n",
              "<style scoped>\n",
              "    .dataframe tbody tr th:only-of-type {\n",
              "        vertical-align: middle;\n",
              "    }\n",
              "\n",
              "    .dataframe tbody tr th {\n",
              "        vertical-align: top;\n",
              "    }\n",
              "\n",
              "    .dataframe thead th {\n",
              "        text-align: right;\n",
              "    }\n",
              "</style>\n",
              "<table border=\"1\" class=\"dataframe\">\n",
              "  <thead>\n",
              "    <tr style=\"text-align: right;\">\n",
              "      <th></th>\n",
              "      <th>Ladder score</th>\n",
              "      <th>Logged GDP per capita</th>\n",
              "      <th>Social support</th>\n",
              "      <th>Healthy life expectancy</th>\n",
              "      <th>Freedom to make life choices</th>\n",
              "      <th>Generosity</th>\n",
              "      <th>Perceptions of corruption</th>\n",
              "    </tr>\n",
              "  </thead>\n",
              "  <tbody>\n",
              "    <tr>\n",
              "      <th>count</th>\n",
              "      <td>153.00000</td>\n",
              "      <td>153.000000</td>\n",
              "      <td>153.000000</td>\n",
              "      <td>153.000000</td>\n",
              "      <td>153.000000</td>\n",
              "      <td>153.000000</td>\n",
              "      <td>153.000000</td>\n",
              "    </tr>\n",
              "    <tr>\n",
              "      <th>mean</th>\n",
              "      <td>5.47324</td>\n",
              "      <td>9.295706</td>\n",
              "      <td>0.808721</td>\n",
              "      <td>64.445529</td>\n",
              "      <td>0.783360</td>\n",
              "      <td>-0.014568</td>\n",
              "      <td>0.733120</td>\n",
              "    </tr>\n",
              "    <tr>\n",
              "      <th>std</th>\n",
              "      <td>1.11227</td>\n",
              "      <td>1.201588</td>\n",
              "      <td>0.121453</td>\n",
              "      <td>7.057848</td>\n",
              "      <td>0.117786</td>\n",
              "      <td>0.151809</td>\n",
              "      <td>0.175172</td>\n",
              "    </tr>\n",
              "    <tr>\n",
              "      <th>min</th>\n",
              "      <td>2.56690</td>\n",
              "      <td>6.492642</td>\n",
              "      <td>0.319460</td>\n",
              "      <td>45.200001</td>\n",
              "      <td>0.396573</td>\n",
              "      <td>-0.300907</td>\n",
              "      <td>0.109784</td>\n",
              "    </tr>\n",
              "    <tr>\n",
              "      <th>25%</th>\n",
              "      <td>4.72410</td>\n",
              "      <td>8.350645</td>\n",
              "      <td>0.737217</td>\n",
              "      <td>58.961712</td>\n",
              "      <td>0.714839</td>\n",
              "      <td>-0.127015</td>\n",
              "      <td>0.683019</td>\n",
              "    </tr>\n",
              "    <tr>\n",
              "      <th>50%</th>\n",
              "      <td>5.51500</td>\n",
              "      <td>9.456313</td>\n",
              "      <td>0.829204</td>\n",
              "      <td>66.305145</td>\n",
              "      <td>0.799805</td>\n",
              "      <td>-0.033665</td>\n",
              "      <td>0.783122</td>\n",
              "    </tr>\n",
              "    <tr>\n",
              "      <th>75%</th>\n",
              "      <td>6.22850</td>\n",
              "      <td>10.265124</td>\n",
              "      <td>0.906747</td>\n",
              "      <td>69.289192</td>\n",
              "      <td>0.877709</td>\n",
              "      <td>0.085429</td>\n",
              "      <td>0.849151</td>\n",
              "    </tr>\n",
              "    <tr>\n",
              "      <th>max</th>\n",
              "      <td>7.80870</td>\n",
              "      <td>11.450681</td>\n",
              "      <td>0.974670</td>\n",
              "      <td>76.804581</td>\n",
              "      <td>0.974998</td>\n",
              "      <td>0.560664</td>\n",
              "      <td>0.935585</td>\n",
              "    </tr>\n",
              "  </tbody>\n",
              "</table>\n",
              "</div>"
            ],
            "text/plain": [
              "       Ladder score  ...  Perceptions of corruption\n",
              "count     153.00000  ...                 153.000000\n",
              "mean        5.47324  ...                   0.733120\n",
              "std         1.11227  ...                   0.175172\n",
              "min         2.56690  ...                   0.109784\n",
              "25%         4.72410  ...                   0.683019\n",
              "50%         5.51500  ...                   0.783122\n",
              "75%         6.22850  ...                   0.849151\n",
              "max         7.80870  ...                   0.935585\n",
              "\n",
              "[8 rows x 7 columns]"
            ]
          },
          "metadata": {
            "tags": []
          },
          "execution_count": 6
        }
      ]
    },
    {
      "cell_type": "code",
      "metadata": {
        "id": "mgp0UCu4cYi0",
        "colab_type": "code",
        "colab": {
          "base_uri": "https://localhost:8080/",
          "height": 286
        },
        "outputId": "59bf6947-7ff4-4ec8-c621-a24eed2fc711"
      },
      "source": [
        "happiness_df.info()"
      ],
      "execution_count": 7,
      "outputs": [
        {
          "output_type": "stream",
          "text": [
            "<class 'pandas.core.frame.DataFrame'>\n",
            "RangeIndex: 153 entries, 0 to 152\n",
            "Data columns (total 9 columns):\n",
            " #   Column                        Non-Null Count  Dtype  \n",
            "---  ------                        --------------  -----  \n",
            " 0   Country name                  153 non-null    object \n",
            " 1   Regional indicator            153 non-null    object \n",
            " 2   Ladder score                  153 non-null    float64\n",
            " 3   Logged GDP per capita         153 non-null    float64\n",
            " 4   Social support                153 non-null    float64\n",
            " 5   Healthy life expectancy       153 non-null    float64\n",
            " 6   Freedom to make life choices  153 non-null    float64\n",
            " 7   Generosity                    153 non-null    float64\n",
            " 8   Perceptions of corruption     153 non-null    float64\n",
            "dtypes: float64(7), object(2)\n",
            "memory usage: 10.9+ KB\n"
          ],
          "name": "stdout"
        }
      ]
    },
    {
      "cell_type": "code",
      "metadata": {
        "id": "dANgaBXUynpv",
        "colab_type": "code",
        "colab": {
          "base_uri": "https://localhost:8080/",
          "height": 185
        },
        "outputId": "6ddda43d-809a-4923-9683-8ef979302004"
      },
      "source": [
        "happiness_df.isnull().sum()   #This dataset does not contain null values"
      ],
      "execution_count": 8,
      "outputs": [
        {
          "output_type": "execute_result",
          "data": {
            "text/plain": [
              "Country name                    0\n",
              "Regional indicator              0\n",
              "Ladder score                    0\n",
              "Logged GDP per capita           0\n",
              "Social support                  0\n",
              "Healthy life expectancy         0\n",
              "Freedom to make life choices    0\n",
              "Generosity                      0\n",
              "Perceptions of corruption       0\n",
              "dtype: int64"
            ]
          },
          "metadata": {
            "tags": []
          },
          "execution_count": 8
        }
      ]
    },
    {
      "cell_type": "markdown",
      "metadata": {
        "id": "M7nXEFHccYi6",
        "colab_type": "text"
      },
      "source": [
        "## Exploratory Analysis and Visualization\n",
        "\n"
      ]
    },
    {
      "cell_type": "markdown",
      "metadata": {
        "id": "5P9nT0MkF44x",
        "colab_type": "text"
      },
      "source": [
        "### **Q1: What is the region wise ladder score ?**"
      ]
    },
    {
      "cell_type": "code",
      "metadata": {
        "id": "swvMxPS1cYi6",
        "colab_type": "code",
        "colab": {
          "base_uri": "https://localhost:8080/",
          "height": 343
        },
        "outputId": "849c85fe-769c-44ad-d6f0-fa3562045bd3"
      },
      "source": [
        "happiness_region_df = happiness_df.groupby('Regional indicator')[['Ladder score']].mean()\n",
        "happiness_region_df.sort_values('Ladder score',ascending = False).reset_index()"
      ],
      "execution_count": 19,
      "outputs": [
        {
          "output_type": "execute_result",
          "data": {
            "text/html": [
              "<div>\n",
              "<style scoped>\n",
              "    .dataframe tbody tr th:only-of-type {\n",
              "        vertical-align: middle;\n",
              "    }\n",
              "\n",
              "    .dataframe tbody tr th {\n",
              "        vertical-align: top;\n",
              "    }\n",
              "\n",
              "    .dataframe thead th {\n",
              "        text-align: right;\n",
              "    }\n",
              "</style>\n",
              "<table border=\"1\" class=\"dataframe\">\n",
              "  <thead>\n",
              "    <tr style=\"text-align: right;\">\n",
              "      <th></th>\n",
              "      <th>Regional indicator</th>\n",
              "      <th>Ladder score</th>\n",
              "    </tr>\n",
              "  </thead>\n",
              "  <tbody>\n",
              "    <tr>\n",
              "      <th>0</th>\n",
              "      <td>North America and ANZ</td>\n",
              "      <td>7.173525</td>\n",
              "    </tr>\n",
              "    <tr>\n",
              "      <th>1</th>\n",
              "      <td>Western Europe</td>\n",
              "      <td>6.899219</td>\n",
              "    </tr>\n",
              "    <tr>\n",
              "      <th>2</th>\n",
              "      <td>Latin America and Caribbean</td>\n",
              "      <td>5.981786</td>\n",
              "    </tr>\n",
              "    <tr>\n",
              "      <th>3</th>\n",
              "      <td>Central and Eastern Europe</td>\n",
              "      <td>5.883818</td>\n",
              "    </tr>\n",
              "    <tr>\n",
              "      <th>4</th>\n",
              "      <td>East Asia</td>\n",
              "      <td>5.714850</td>\n",
              "    </tr>\n",
              "    <tr>\n",
              "      <th>5</th>\n",
              "      <td>Southeast Asia</td>\n",
              "      <td>5.383367</td>\n",
              "    </tr>\n",
              "    <tr>\n",
              "      <th>6</th>\n",
              "      <td>Commonwealth of Independent States</td>\n",
              "      <td>5.358342</td>\n",
              "    </tr>\n",
              "    <tr>\n",
              "      <th>7</th>\n",
              "      <td>Middle East and North Africa</td>\n",
              "      <td>5.227159</td>\n",
              "    </tr>\n",
              "    <tr>\n",
              "      <th>8</th>\n",
              "      <td>South Asia</td>\n",
              "      <td>4.475443</td>\n",
              "    </tr>\n",
              "    <tr>\n",
              "      <th>9</th>\n",
              "      <td>Sub-Saharan Africa</td>\n",
              "      <td>4.383495</td>\n",
              "    </tr>\n",
              "  </tbody>\n",
              "</table>\n",
              "</div>"
            ],
            "text/plain": [
              "                   Regional indicator  Ladder score\n",
              "0               North America and ANZ      7.173525\n",
              "1                      Western Europe      6.899219\n",
              "2         Latin America and Caribbean      5.981786\n",
              "3          Central and Eastern Europe      5.883818\n",
              "4                           East Asia      5.714850\n",
              "5                      Southeast Asia      5.383367\n",
              "6  Commonwealth of Independent States      5.358342\n",
              "7        Middle East and North Africa      5.227159\n",
              "8                          South Asia      4.475443\n",
              "9                  Sub-Saharan Africa      4.383495"
            ]
          },
          "metadata": {
            "tags": []
          },
          "execution_count": 19
        }
      ]
    },
    {
      "cell_type": "markdown",
      "metadata": {
        "id": "U5TjY3s3I-Ln",
        "colab_type": "text"
      },
      "source": [
        "### **Q2 :Plot the graph of relation beteen Geographical location and Ladder Score**"
      ]
    },
    {
      "cell_type": "code",
      "metadata": {
        "id": "U9112n0dcYi9",
        "colab_type": "code",
        "colab": {
          "base_uri": "https://localhost:8080/",
          "height": 606
        },
        "outputId": "fc85ea00-1b21-45b7-eae8-72076fc61e35"
      },
      "source": [
        "plt.figure(figsize=(20, 10))\n",
        "sns.barplot('Ladder score', 'Regional indicator', data=happiness_region_df,order=happiness_region_df.sort_values('Ladder score')['Regional indicator']);"
      ],
      "execution_count": 10,
      "outputs": [
        {
          "output_type": "display_data",
          "data": {
            "image/png": "[encoded data removed]",
            "text/plain": [
              "<Figure size 1440x720 with 1 Axes>"
            ]
          },
          "metadata": {
            "tags": [],
            "needs_background": "light"
          }
        }
      ]
    },
    {
      "cell_type": "markdown",
      "metadata": {
        "id": "Hp1CpdLKpqQD",
        "colab_type": "text"
      },
      "source": [
        "### **Q3: Relation of Happiness Index of South Asian countries with its Freedom Index**"
      ]
    },
    {
      "cell_type": "code",
      "metadata": {
        "id": "ccaHk414cYjC",
        "colab_type": "code",
        "colab": {
          "base_uri": "https://localhost:8080/",
          "height": 254
        },
        "outputId": "608522c6-7d91-455e-d46d-04e400104363"
      },
      "source": [
        "sasian_countries_df = happiness_df[happiness_df['Regional indicator'] == 'South Asia']\n",
        "sasian_countries_df.sort_values('Ladder score',ascending=False)[['Country name','Ladder score','Freedom to make life choices']].reset_index(drop = True)"
      ],
      "execution_count": 11,
      "outputs": [
        {
          "output_type": "execute_result",
          "data": {
            "text/html": [
              "<div>\n",
              "<style scoped>\n",
              "    .dataframe tbody tr th:only-of-type {\n",
              "        vertical-align: middle;\n",
              "    }\n",
              "\n",
              "    .dataframe tbody tr th {\n",
              "        vertical-align: top;\n",
              "    }\n",
              "\n",
              "    .dataframe thead th {\n",
              "        text-align: right;\n",
              "    }\n",
              "</style>\n",
              "<table border=\"1\" class=\"dataframe\">\n",
              "  <thead>\n",
              "    <tr style=\"text-align: right;\">\n",
              "      <th></th>\n",
              "      <th>Country name</th>\n",
              "      <th>Ladder score</th>\n",
              "      <th>Freedom to make life choices</th>\n",
              "    </tr>\n",
              "  </thead>\n",
              "  <tbody>\n",
              "    <tr>\n",
              "      <th>0</th>\n",
              "      <td>Pakistan</td>\n",
              "      <td>5.6933</td>\n",
              "      <td>0.734834</td>\n",
              "    </tr>\n",
              "    <tr>\n",
              "      <th>1</th>\n",
              "      <td>Maldives</td>\n",
              "      <td>5.1976</td>\n",
              "      <td>0.853963</td>\n",
              "    </tr>\n",
              "    <tr>\n",
              "      <th>2</th>\n",
              "      <td>Nepal</td>\n",
              "      <td>5.1372</td>\n",
              "      <td>0.797565</td>\n",
              "    </tr>\n",
              "    <tr>\n",
              "      <th>3</th>\n",
              "      <td>Bangladesh</td>\n",
              "      <td>4.8328</td>\n",
              "      <td>0.900625</td>\n",
              "    </tr>\n",
              "    <tr>\n",
              "      <th>4</th>\n",
              "      <td>Sri Lanka</td>\n",
              "      <td>4.3270</td>\n",
              "      <td>0.837634</td>\n",
              "    </tr>\n",
              "    <tr>\n",
              "      <th>5</th>\n",
              "      <td>India</td>\n",
              "      <td>3.5733</td>\n",
              "      <td>0.881445</td>\n",
              "    </tr>\n",
              "    <tr>\n",
              "      <th>6</th>\n",
              "      <td>Afghanistan</td>\n",
              "      <td>2.5669</td>\n",
              "      <td>0.396573</td>\n",
              "    </tr>\n",
              "  </tbody>\n",
              "</table>\n",
              "</div>"
            ],
            "text/plain": [
              "  Country name  Ladder score  Freedom to make life choices\n",
              "0     Pakistan        5.6933                      0.734834\n",
              "1     Maldives        5.1976                      0.853963\n",
              "2        Nepal        5.1372                      0.797565\n",
              "3   Bangladesh        4.8328                      0.900625\n",
              "4    Sri Lanka        4.3270                      0.837634\n",
              "5        India        3.5733                      0.881445\n",
              "6  Afghanistan        2.5669                      0.396573"
            ]
          },
          "metadata": {
            "tags": []
          },
          "execution_count": 11
        }
      ]
    },
    {
      "cell_type": "markdown",
      "metadata": {
        "id": "T0aFW7O5vK7S",
        "colab_type": "text"
      },
      "source": [
        "### **Q4: Plot of Relation of Happiness Index of South Asian countries with its Freedom Index**"
      ]
    },
    {
      "cell_type": "code",
      "metadata": {
        "id": "PpXGwBTHcYjE",
        "colab_type": "code",
        "colab": {
          "base_uri": "https://localhost:8080/",
          "height": 622
        },
        "outputId": "4b443e08-e45e-4db5-b5af-223c8756f4a1"
      },
      "source": [
        "plt.figure(figsize=(20, 10))\n",
        "plt.bar(sasian_countries_df['Country name'], sasian_countries_df['Freedom to make life choices'] );\n",
        "plt.bar(sasian_countries_df['Country name'], sasian_countries_df['Ladder score'],bottom=sasian_countries_df['Freedom to make life choices'])\n",
        "\n",
        "plt.xlabel('Country Name')\n",
        "plt.ylabel('Freedom to make life choices/Ladder score')\n"
      ],
      "execution_count": 12,
      "outputs": [
        {
          "output_type": "execute_result",
          "data": {
            "text/plain": [
              "Text(0, 0.5, 'Freedom to make life choices/Ladder score')"
            ]
          },
          "metadata": {
            "tags": []
          },
          "execution_count": 12
        },
        {
          "output_type": "display_data",
          "data": {
            "image/png": "[encoded data removed]",
            "text/plain": [
              "<Figure size 1440x720 with 1 Axes>"
            ]
          },
          "metadata": {
            "tags": [],
            "needs_background": "light"
          }
        }
      ]
    },
    {
      "cell_type": "markdown",
      "metadata": {
        "id": "ZrgzOg5BMOoH",
        "colab_type": "text"
      },
      "source": [
        "From the above plot we can conclude that the ladder score of South Asian countries is independent of its Freedom index."
      ]
    },
    {
      "cell_type": "markdown",
      "metadata": {
        "id": "ABmhNjyZcYjK",
        "colab_type": "text"
      },
      "source": [
        "### **Q5: What is the relation between Ladder score of Geographical location and its mean Healthy life expectancy**\n",
        "\n"
      ]
    },
    {
      "cell_type": "code",
      "metadata": {
        "id": "rSzxveqzcYjK",
        "colab_type": "code",
        "colab": {
          "base_uri": "https://localhost:8080/",
          "height": 343
        },
        "outputId": "2d0633e5-bf61-46b8-a84d-862f645fb958"
      },
      "source": [
        "geo_healthdf = happiness_df.groupby('Regional indicator').mean().reset_index()\n",
        "geo_healthdf = geo_healthdf[['Regional indicator','Ladder score','Healthy life expectancy']]\n",
        "geo_healthdf = geo_healthdf.sort_values('Ladder score',ascending=False)\n",
        "geo_healthdf['Healthy life expectancy'] = geo_healthdf['Healthy life expectancy']/10\n",
        "geo_healthdf"
      ],
      "execution_count": 13,
      "outputs": [
        {
          "output_type": "execute_result",
          "data": {
            "text/html": [
              "<div>\n",
              "<style scoped>\n",
              "    .dataframe tbody tr th:only-of-type {\n",
              "        vertical-align: middle;\n",
              "    }\n",
              "\n",
              "    .dataframe tbody tr th {\n",
              "        vertical-align: top;\n",
              "    }\n",
              "\n",
              "    .dataframe thead th {\n",
              "        text-align: right;\n",
              "    }\n",
              "</style>\n",
              "<table border=\"1\" class=\"dataframe\">\n",
              "  <thead>\n",
              "    <tr style=\"text-align: right;\">\n",
              "      <th></th>\n",
              "      <th>Regional indicator</th>\n",
              "      <th>Ladder score</th>\n",
              "      <th>Healthy life expectancy</th>\n",
              "    </tr>\n",
              "  </thead>\n",
              "  <tbody>\n",
              "    <tr>\n",
              "      <th>5</th>\n",
              "      <td>North America and ANZ</td>\n",
              "      <td>7.173525</td>\n",
              "      <td>7.217707</td>\n",
              "    </tr>\n",
              "    <tr>\n",
              "      <th>9</th>\n",
              "      <td>Western Europe</td>\n",
              "      <td>6.899219</td>\n",
              "      <td>7.286356</td>\n",
              "    </tr>\n",
              "    <tr>\n",
              "      <th>3</th>\n",
              "      <td>Latin America and Caribbean</td>\n",
              "      <td>5.981786</td>\n",
              "      <td>6.671733</td>\n",
              "    </tr>\n",
              "    <tr>\n",
              "      <th>0</th>\n",
              "      <td>Central and Eastern Europe</td>\n",
              "      <td>5.883818</td>\n",
              "      <td>6.814899</td>\n",
              "    </tr>\n",
              "    <tr>\n",
              "      <th>2</th>\n",
              "      <td>East Asia</td>\n",
              "      <td>5.714850</td>\n",
              "      <td>7.109485</td>\n",
              "    </tr>\n",
              "    <tr>\n",
              "      <th>7</th>\n",
              "      <td>Southeast Asia</td>\n",
              "      <td>5.383367</td>\n",
              "      <td>6.471048</td>\n",
              "    </tr>\n",
              "    <tr>\n",
              "      <th>1</th>\n",
              "      <td>Commonwealth of Independent States</td>\n",
              "      <td>5.358342</td>\n",
              "      <td>6.472656</td>\n",
              "    </tr>\n",
              "    <tr>\n",
              "      <th>4</th>\n",
              "      <td>Middle East and North Africa</td>\n",
              "      <td>5.227159</td>\n",
              "      <td>6.531361</td>\n",
              "    </tr>\n",
              "    <tr>\n",
              "      <th>6</th>\n",
              "      <td>South Asia</td>\n",
              "      <td>4.475443</td>\n",
              "      <td>6.244866</td>\n",
              "    </tr>\n",
              "    <tr>\n",
              "      <th>8</th>\n",
              "      <td>Sub-Saharan Africa</td>\n",
              "      <td>4.383495</td>\n",
              "      <td>5.509159</td>\n",
              "    </tr>\n",
              "  </tbody>\n",
              "</table>\n",
              "</div>"
            ],
            "text/plain": [
              "                   Regional indicator  Ladder score  Healthy life expectancy\n",
              "5               North America and ANZ      7.173525                 7.217707\n",
              "9                      Western Europe      6.899219                 7.286356\n",
              "3         Latin America and Caribbean      5.981786                 6.671733\n",
              "0          Central and Eastern Europe      5.883818                 6.814899\n",
              "2                           East Asia      5.714850                 7.109485\n",
              "7                      Southeast Asia      5.383367                 6.471048\n",
              "1  Commonwealth of Independent States      5.358342                 6.472656\n",
              "4        Middle East and North Africa      5.227159                 6.531361\n",
              "6                          South Asia      4.475443                 6.244866\n",
              "8                  Sub-Saharan Africa      4.383495                 5.509159"
            ]
          },
          "metadata": {
            "tags": []
          },
          "execution_count": 13
        }
      ]
    },
    {
      "cell_type": "markdown",
      "metadata": {
        "id": "2x9RqD41k4Iy",
        "colab_type": "text"
      },
      "source": [
        "### **Q6: Plot the relation between Ladder score of Geographical location and its mean Healthy life expectancy**"
      ]
    },
    {
      "cell_type": "code",
      "metadata": {
        "id": "Wcz5LyqkcYjM",
        "colab_type": "code",
        "colab": {
          "base_uri": "https://localhost:8080/",
          "height": 519
        },
        "outputId": "bfcca64a-1520-4c4a-c694-34255839d800"
      },
      "source": [
        "plt.figure(figsize=(30, 10))\n",
        "plt.bar(geo_healthdf['Regional indicator'], geo_healthdf['Ladder score'] );\n",
        "plt.plot(geo_healthdf['Regional indicator'], geo_healthdf['Healthy life expectancy'],'s-r')\n",
        "\n",
        "plt.xlabel('Country Name')\n",
        "plt.ylabel('Ladder score/Healthy life expectancy')"
      ],
      "execution_count": 14,
      "outputs": [
        {
          "output_type": "execute_result",
          "data": {
            "text/plain": [
              "Text(0, 0.5, 'Ladder score/Healthy life expectancy')"
            ]
          },
          "metadata": {
            "tags": []
          },
          "execution_count": 14
        },
        {
          "output_type": "display_data",
          "data": {
            "image/png": "[encoded data removed]",
            "text/plain": [
              "<Figure size 2160x720 with 1 Axes>"
            ]
          },
          "metadata": {
            "tags": [],
            "needs_background": "light"
          }
        }
      ]
    },
    {
      "cell_type": "markdown",
      "metadata": {
        "id": "-s86xcQbphqN",
        "colab_type": "text"
      },
      "source": [
        "We observe that there is a linear relation between mean Happiness index of Geographical location and its mean Healthy life expectancy. So we can conclude that Happiness of a region is largely depended on its healthcare system with some exception like East Asia."
      ]
    },
    {
      "cell_type": "markdown",
      "metadata": {
        "id": "8J19HmWwEsRA",
        "colab_type": "text"
      },
      "source": [
        "### **Q7: Relation of South Asian countries with their Health Life Expectancy**"
      ]
    },
    {
      "cell_type": "code",
      "metadata": {
        "id": "VWvxba1ecYjR",
        "colab_type": "code",
        "colab": {
          "base_uri": "https://localhost:8080/",
          "height": 254
        },
        "outputId": "672b38a7-a826-45bc-cdfd-5d5bc9367412"
      },
      "source": [
        "sasian_countries_df = sasian_countries_df.sort_values('Ladder score',ascending=False)[['Country name','Ladder score','Healthy life expectancy']].reset_index(drop = True)\n",
        "sasian_countries_df2 = sasian_countries_df.copy()\n",
        "sasian_countries_df2['Healthy life expectancy'] = sasian_countries_df2['Healthy life expectancy']/10\n",
        "sasian_countries_df2\n"
      ],
      "execution_count": 15,
      "outputs": [
        {
          "output_type": "execute_result",
          "data": {
            "text/html": [
              "<div>\n",
              "<style scoped>\n",
              "    .dataframe tbody tr th:only-of-type {\n",
              "        vertical-align: middle;\n",
              "    }\n",
              "\n",
              "    .dataframe tbody tr th {\n",
              "        vertical-align: top;\n",
              "    }\n",
              "\n",
              "    .dataframe thead th {\n",
              "        text-align: right;\n",
              "    }\n",
              "</style>\n",
              "<table border=\"1\" class=\"dataframe\">\n",
              "  <thead>\n",
              "    <tr style=\"text-align: right;\">\n",
              "      <th></th>\n",
              "      <th>Country name</th>\n",
              "      <th>Ladder score</th>\n",
              "      <th>Healthy life expectancy</th>\n",
              "    </tr>\n",
              "  </thead>\n",
              "  <tbody>\n",
              "    <tr>\n",
              "      <th>0</th>\n",
              "      <td>Pakistan</td>\n",
              "      <td>5.6933</td>\n",
              "      <td>5.825314</td>\n",
              "    </tr>\n",
              "    <tr>\n",
              "      <th>1</th>\n",
              "      <td>Maldives</td>\n",
              "      <td>5.1976</td>\n",
              "      <td>7.060000</td>\n",
              "    </tr>\n",
              "    <tr>\n",
              "      <th>2</th>\n",
              "      <td>Nepal</td>\n",
              "      <td>5.1372</td>\n",
              "      <td>6.377918</td>\n",
              "    </tr>\n",
              "    <tr>\n",
              "      <th>3</th>\n",
              "      <td>Bangladesh</td>\n",
              "      <td>4.8328</td>\n",
              "      <td>6.450307</td>\n",
              "    </tr>\n",
              "    <tr>\n",
              "      <th>4</th>\n",
              "      <td>Sri Lanka</td>\n",
              "      <td>4.3270</td>\n",
              "      <td>6.720007</td>\n",
              "    </tr>\n",
              "    <tr>\n",
              "      <th>5</th>\n",
              "      <td>India</td>\n",
              "      <td>3.5733</td>\n",
              "      <td>6.021519</td>\n",
              "    </tr>\n",
              "    <tr>\n",
              "      <th>6</th>\n",
              "      <td>Afghanistan</td>\n",
              "      <td>2.5669</td>\n",
              "      <td>5.259000</td>\n",
              "    </tr>\n",
              "  </tbody>\n",
              "</table>\n",
              "</div>"
            ],
            "text/plain": [
              "  Country name  Ladder score  Healthy life expectancy\n",
              "0     Pakistan        5.6933                 5.825314\n",
              "1     Maldives        5.1976                 7.060000\n",
              "2        Nepal        5.1372                 6.377918\n",
              "3   Bangladesh        4.8328                 6.450307\n",
              "4    Sri Lanka        4.3270                 6.720007\n",
              "5        India        3.5733                 6.021519\n",
              "6  Afghanistan        2.5669                 5.259000"
            ]
          },
          "metadata": {
            "tags": []
          },
          "execution_count": 15
        }
      ]
    },
    {
      "cell_type": "code",
      "metadata": {
        "id": "TL6bnuuDcYjT",
        "colab_type": "code",
        "colab": {
          "base_uri": "https://localhost:8080/",
          "height": 519
        },
        "outputId": "23f006d3-8a7a-4686-e1e2-a8d77b186754"
      },
      "source": [
        "plt.figure(figsize=(30, 10))\n",
        "plt.bar(sasian_countries_df2['Country name'], sasian_countries_df2['Ladder score'] );\n",
        "plt.plot(sasian_countries_df2['Country name'], sasian_countries_df2['Healthy life expectancy'],'s-r')\n",
        "\n",
        "plt.xlabel('Country')\n",
        "plt.ylabel('Ladder score/Healthy life expectancy')"
      ],
      "execution_count": 16,
      "outputs": [
        {
          "output_type": "execute_result",
          "data": {
            "text/plain": [
              "Text(0, 0.5, 'Ladder score/Healthy life expectancy')"
            ]
          },
          "metadata": {
            "tags": []
          },
          "execution_count": 16
        },
        {
          "output_type": "display_data",
          "data": {
            "image/png": "[encoded data removed]",
            "text/plain": [
              "<Figure size 2160x720 with 1 Axes>"
            ]
          },
          "metadata": {
            "tags": [],
            "needs_background": "light"
          }
        }
      ]
    },
    {
      "cell_type": "markdown",
      "metadata": {
        "id": "iWL-jQoWj6mE",
        "colab_type": "text"
      },
      "source": [
        "Even though there was a clear relation between happiness index  and Healthy life expectancy in case of Geographical regions, the same trend is not visible in South Asian countires."
      ]
    },
    {
      "cell_type": "markdown",
      "metadata": {
        "id": "ve9MrkbboVqP",
        "colab_type": "text"
      },
      "source": [
        "### **Q8: Plot the distribution of Happiness index of all the countries**"
      ]
    },
    {
      "cell_type": "code",
      "metadata": {
        "id": "US7O_-GfcYjX",
        "colab_type": "code",
        "colab": {
          "base_uri": "https://localhost:8080/",
          "height": 374
        },
        "outputId": "77efb1e5-29de-44bf-9596-f80270d212e6"
      },
      "source": [
        "plt.figure(figsize=(20, 6))\n",
        "plt.hist(happiness_df['Ladder score'],bins=list(range(1,11)));"
      ],
      "execution_count": 17,
      "outputs": [
        {
          "output_type": "display_data",
          "data": {
            "image/png": "[encoded data removed]",
            "text/plain": [
              "<Figure size 1440x432 with 1 Axes>"
            ]
          },
          "metadata": {
            "tags": [],
            "needs_background": "light"
          }
        }
      ]
    },
    {
      "cell_type": "markdown",
      "metadata": {
        "id": "MXZgA5_5qdRF",
        "colab_type": "text"
      },
      "source": [
        "So we can conclude that happiness index of most of the countries lies in range of 5 and 6."
      ]
    },
    {
      "cell_type": "markdown",
      "metadata": {
        "id": "XSqy9cnwNrOZ",
        "colab_type": "text"
      },
      "source": [
        "### **Q9: What is the relation between ladder score of Happiness index and Corruption index of Sub-Saharan Africa, South Asia and Western Europe**"
      ]
    },
    {
      "cell_type": "code",
      "metadata": {
        "id": "nL2mIPy3Nok4",
        "colab_type": "code",
        "colab": {
          "base_uri": "https://localhost:8080/",
          "height": 374
        },
        "outputId": "277436b1-9e53-4b4b-b742-12ccfaba0b68"
      },
      "source": [
        "Sub_Africa_df = happiness_df[happiness_df['Regional indicator'] == 'Sub-Saharan Africa'].copy()\n",
        "sasian_countries_df3 = happiness_df[happiness_df['Regional indicator'] == 'South Asia'].copy()\n",
        "west_europe_df = happiness_df[happiness_df['Regional indicator'] == 'Western Europe'].copy()\n",
        "\n",
        "sasian_countries_df3['Perceptions of corruption'] = sasian_countries_df3['Perceptions of corruption'] * 10\n",
        "Sub_Africa_df['Perceptions of corruption'] = Sub_Africa_df['Perceptions of corruption'] * 10\n",
        "west_europe_df['Perceptions of corruption'] = west_europe_df['Perceptions of corruption'] * 10\n",
        "\n",
        "plt.figure(figsize=(20, 6))\n",
        "plt.plot(sasian_countries_df3['Ladder score'],sasian_countries_df3['Perceptions of corruption'],'s-b');\n",
        "plt.plot(Sub_Africa_df['Ladder score'],Sub_Africa_df['Perceptions of corruption'],'s-r');\n",
        "plt.plot(west_europe_df['Ladder score'],west_europe_df['Perceptions of corruption'],'s-g');\n",
        "plt.legend(['South Asia', 'Sub-Saharan Africa','Western Europe']);\n"
      ],
      "execution_count": 18,
      "outputs": [
        {
          "output_type": "display_data",
          "data": {
            "image/png": "[encoded data removed]",
            "text/plain": [
              "<Figure size 1440x432 with 1 Axes>"
            ]
          },
          "metadata": {
            "tags": [],
            "needs_background": "light"
          }
        }
      ]
    },
    {
      "cell_type": "markdown",
      "metadata": {
        "id": "b8WA86h7betf",
        "colab_type": "text"
      },
      "source": [
        "From the above chart we can conclude that there is no clear trend between Happiness index and Corruption index for Sub-Saharan African and South Asian countries.Whereas in case of Western Europen countries it is clearly visible that a inverse relation exist between Corruption index and Happiness Index."
      ]
    },
    {
      "cell_type": "markdown",
      "metadata": {
        "id": "AKyNNhzMcYje",
        "colab_type": "text"
      },
      "source": [
        "# Inferences and Conclusion\n",
        "\n",
        "From the above analsis of world happiness index, it can be concluded that  Happiness of country depends greatly on its geographical region.\n",
        "For countries in Western Europe or North America , the happiness of the region if affected by political, economical and social factors. Whereas for South Asian and Sub-Sarahan African countries, Happiness of the region seems to be largely an independet factors irrespective of its political, economical and social factors."
      ]
    }
  ]
}